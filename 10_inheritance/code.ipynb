{
 "cells": [
  {
   "cell_type": "code",
   "execution_count": null,
   "metadata": {},
   "outputs": [
    {
     "name": "stdout",
     "output_type": "stream",
     "text": [
      "{'name': 'Rehan'}\n"
     ]
    }
   ],
   "source": [
    "class Person:\n",
    "    \n",
    "    def __init__(self, name):\n",
    "        self.name = name\n",
    "    \n",
    "    def speaks(self):\n",
    "        print(f\"{self.name} speaks\")\n",
    "    \n",
    "    def __str__(self):\n",
    "        print(f\"Object name is {self.name}\")\n",
    "\n",
    "person1 = Person(\"Rehan\")\n",
    "\n",
    "print(person1.__dict__)\n"
   ]
  },
  {
   "cell_type": "code",
   "execution_count": 9,
   "metadata": {},
   "outputs": [
    {
     "name": "stdout",
     "output_type": "stream",
     "text": [
      "Rehan\n",
      "Usman\n"
     ]
    }
   ],
   "source": [
    "person2 = Person(\"Usman\")\n",
    "print(person1.name)\n",
    "print(person2.name)"
   ]
  },
  {
   "cell_type": "markdown",
   "metadata": {},
   "source": [
    "## 2. Class variables"
   ]
  },
  {
   "cell_type": "code",
   "execution_count": null,
   "metadata": {},
   "outputs": [
    {
     "name": "stdout",
     "output_type": "stream",
     "text": [
      "Pakistan\n",
      "Pakistan\n",
      "Pakistan\n"
     ]
    }
   ],
   "source": [
    "class Person:\n",
    "    nationality = \"Pakistan\"\n",
    "    \n",
    "    def __init__(self, name):\n",
    "        self.name = name\n",
    "        \n",
    "    \n",
    "    def speaks(self, cls):\n",
    "        print(f\"{self.name} from {cls.nationality} speaks\")\n",
    "    \n",
    "\n",
    "\n",
    "person1 = Person(\"Rehan\")\n",
    "\n",
    "person2 = Person(\"Usman\")\n",
    "\n",
    "print(person1.nationality)\n",
    "print(person2.nationality)\n",
    "print(Person.nationality)\n",
    "\n"
   ]
  },
  {
   "cell_type": "markdown",
   "metadata": {},
   "source": [
    "## 2. Class Methods\n",
    "- To control access to class variables\n",
    "- To modify class variables\n",
    "- To create objects in alternative way\n"
   ]
  },
  {
   "cell_type": "code",
   "execution_count": 4,
   "metadata": {},
   "outputs": [
    {
     "name": "stdout",
     "output_type": "stream",
     "text": [
      "<class '__main__.Car'>\n",
      "{'brand': 'toyota', 'color': 'yellow'}\n",
      "<class '__main__.Car'>\n"
     ]
    }
   ],
   "source": [
    "class Car:\n",
    "    \n",
    "    def __init__(self, brand) -> None:\n",
    "        self.brand = brand\n",
    "        self.color = \"\"\n",
    "\n",
    "    @classmethod\n",
    "    def add_color(cls, brand, color):\n",
    "        car = cls(brand)\n",
    "        car.color = color\n",
    "        return car\n",
    "\n",
    "\n",
    "car1 = Car(\"honda\")\n",
    "print(type(car1))\n",
    "\n",
    "\n",
    "car2 = Car.add_color(\"toyota\", \"yellow\")\n",
    "\n",
    "\n",
    "print(car2.__dict__)\n",
    "print(type(car2))"
   ]
  },
  {
   "cell_type": "code",
   "execution_count": null,
   "metadata": {},
   "outputs": [
    {
     "name": "stdout",
     "output_type": "stream",
     "text": [
      "green\n"
     ]
    }
   ],
   "source": [
    "class Car2:\n",
    "    __color = \"yellow\"\n",
    "    \n",
    "    def __init__(self, brand) -> None:\n",
    "        self.brand = brand\n",
    "\n",
    "    @classmethod\n",
    "    def access_color(cls):\n",
    "        cls.__color = \"green\"\n",
    "        print(cls.__color)\n",
    "\n",
    "car3 = Car2(\"suzuki\")\n",
    "car3.access_color()"
   ]
  },
  {
   "cell_type": "markdown",
   "metadata": {},
   "source": [
    "## 3. Static Methods\n",
    "\n",
    "- Do not require cls or self\n",
    "- utility methods\n",
    "- doesn't require object of that class to execute its code\n",
    "- doesn't need to know the state of class or its objects.\n",
    "\n",
    "**Usage:**\n",
    "\n",
    "- utilty functions add, multiply\n",
    "- validation\n",
    "- default settings/configurations\n"
   ]
  },
  {
   "cell_type": "code",
   "execution_count": null,
   "metadata": {},
   "outputs": [
    {
     "name": "stdout",
     "output_type": "stream",
     "text": [
      "{'name': 'Rehan', 'email': 'adsfdsae..'}\n",
      "{'name': 'Usman', 'email': 'abc@gmail.com'}\n"
     ]
    }
   ],
   "source": [
    "class User:\n",
    "    def __init__(self, name, email):\n",
    "        self.name = name\n",
    "        self.email = email\n",
    "\n",
    "    @staticmethod\n",
    "    def validate_email(email):\n",
    "        return '@' in email and '.' in email\n",
    "    \n",
    "    @classmethod\n",
    "    def create_user(cls, name, email):\n",
    "        if not cls.validate_email(email):\n",
    "            raise ValueError(\"Not a valid email\")\n",
    "        return cls(name, email)\n",
    "    \n",
    "\n",
    "    @staticmethod\n",
    "    def default_settings():\n",
    "        return {\n",
    "            \"settingq\": \"any\"\n",
    "        }\n",
    "\n",
    "user1 = User(\"Rehan\", \"adsfdsae..\")\n",
    "print(user1.__dict__)\n",
    "\n",
    "user2 = User.create_user(\"Usman\", \"abc@gmail.com\")\n",
    "print(user2.__dict__)\n"
   ]
  },
  {
   "cell_type": "markdown",
   "metadata": {},
   "source": [
    "### Comparison\n",
    "\n",
    "| **Feature** | **Instance Method** | **Class Method** | **Static Method** |\n",
    "|-----------|-------------|------------|-------------|\n",
    "| works on | instances | class | neither of them |\n",
    "| modify instance? | yes | no | no |\n",
    "| modify class? | no | yes | no |\n",
    "| used for? | modifying instance data | modifying class data | utility function |"
   ]
  },
  {
   "cell_type": "markdown",
   "metadata": {},
   "source": [
    "## 4. Inheritence\n",
    "is-a relationship  \n",
    "Teacher is-a Person  \n",
    "Student is-a Person  \n",
    "\n",
    "- Child class also called Subclass inherits  the properties and methods of it's Parent Class also called Base Class.\n",
    "- DRY --> Do not repeat yourself\n",
    "- Code reusability\n"
   ]
  },
  {
   "cell_type": "code",
   "execution_count": 27,
   "metadata": {},
   "outputs": [
    {
     "name": "stdout",
     "output_type": "stream",
     "text": [
      "parent constructor is being called\n",
      "parent constructor is being called\n",
      "child constructor is being called\n",
      "parent constructor is being called\n"
     ]
    }
   ],
   "source": [
    "class Person:\n",
    "    def __init__(self, name):\n",
    "        print(\"parent constructor is being called\")\n",
    "        self.name = name\n",
    "\n",
    "    def speaks(self):\n",
    "        print(\"Person speaks\")\n",
    "\n",
    "\n",
    "class Teacher(Person):\n",
    "    def __init__(self, name, subject):\n",
    "        print(\"child constructor is being called\")\n",
    "        super().__init__(name)\n",
    "        self.subject = subject\n",
    "\n",
    "    def speaks(self):\n",
    "        print(\"Teacher speaks\")\n",
    "        \n",
    "\n",
    "class Student(Person):\n",
    "    def __init__(self, name, batch):\n",
    "        super().__init__(name)\n",
    "        self.batch = batch\n",
    "\n",
    "    def speaks(self):\n",
    "        print(\"Student speaks\")  \n",
    "\n",
    "p1 = Person (\"Ibtisam\")\n",
    "s1 = Student(\"Rehan\", 68)\n",
    "t1 = Teacher(\"Usman\", \"Python\")\n",
    "\n"
   ]
  },
  {
   "cell_type": "code",
   "execution_count": 22,
   "metadata": {},
   "outputs": [
    {
     "name": "stdout",
     "output_type": "stream",
     "text": [
      "Python\n",
      "Usman\n"
     ]
    }
   ],
   "source": [
    "print(t1.subject)\n",
    "print(t1.name)"
   ]
  },
  {
   "cell_type": "markdown",
   "metadata": {},
   "source": [
    "## Example of a Basic Parent Class:\n",
    "This User class contains general information that might be shared by all users of a system, like a username and email."
   ]
  },
  {
   "cell_type": "code",
   "execution_count": null,
   "metadata": {},
   "outputs": [],
   "source": [
    "# Parent class\n",
    "class User:\n",
    "    def __init__(self, username, email):\n",
    "        self.username = username\n",
    "        self.email = email\n",
    "\n",
    "    def display_user_info(self):\n",
    "        print(f\"User: {self.username}, Email: {self.email}\")"
   ]
  },
  {
   "cell_type": "markdown",
   "metadata": {},
   "source": [
    "#### Example of a Child Class Inheriting from the Parent Class:\n",
    "Here, Admin is a child class of User, and it inherits the username and email properties. Additionally, it introduces a new property access_level specific to admin users."
   ]
  },
  {
   "cell_type": "code",
   "execution_count": null,
   "metadata": {},
   "outputs": [],
   "source": [
    "# Child class inheriting from User\n",
    "class Admin(User):\n",
    "    def __init__(self, username, email, access_level):\n",
    "        # Inheriting the parent class properties using super()\n",
    "        super().__init__(username, email)\n",
    "        self.access_level = access_level\n",
    "\n",
    "    def display_admin_info(self):\n",
    "        print(f\"Admin Access Level: {self.access_level}\")"
   ]
  },
  {
   "cell_type": "markdown",
   "metadata": {},
   "source": [
    "### Using the Inheritance:"
   ]
  },
  {
   "cell_type": "code",
   "execution_count": null,
   "metadata": {},
   "outputs": [],
   "source": [
    "# Creating an instance of Admin\n",
    "admin1 = Admin(\"admin_user\", \"admin@example.com\", \"SuperUser\")\n",
    "admin1.display_user_info()  # Method from the parent class\n",
    "admin1.display_admin_info()  # Method from the child class"
   ]
  },
  {
   "cell_type": "markdown",
   "metadata": {},
   "source": [
    "## Types of Inheritance\n",
    "### 1. Single Inheritance\n",
    "In single inheritance, a child class inherits from one parent class."
   ]
  },
  {
   "cell_type": "code",
   "execution_count": null,
   "metadata": {},
   "outputs": [],
   "source": [
    "class Customer(User):\n",
    "    def __init__(self, username, email, customer_id):\n",
    "        super().__init__(username, email)\n",
    "        self.customer_id = customer_id\n",
    "\n",
    "    def display_customer_info(self):\n",
    "        print(f\"Customer ID: {self.customer_id}\")"
   ]
  },
  {
   "cell_type": "markdown",
   "metadata": {},
   "source": [
    "### 2. Multiple Inheritance\n",
    "In multiple inheritance, a child class can inherit from more than one parent class.\n",
    "\n",
    "Here, Admin inherits from both User and Notification, meaning it can use methods from both classes."
   ]
  },
  {
   "cell_type": "code",
   "execution_count": null,
   "metadata": {},
   "outputs": [],
   "source": [
    "class Notification:\n",
    "    def send_notification(self, message):\n",
    "        print(f\"Sending notification: {message}\")\n",
    "\n",
    "class Admin(User, Notification):\n",
    "    def __init__(self, username, email, access_level):\n",
    "        super().__init__(username, email)\n",
    "        self.access_level = access_level\n",
    "\n",
    "    def send_admin_notification(self):\n",
    "        self.send_notification(f\"Admin {self.username} has logged in.\")"
   ]
  },
  {
   "cell_type": "markdown",
   "metadata": {},
   "source": [
    "### 3. Multilevel Inheritance\n",
    "In multilevel inheritance, a class inherits from a child class that has already inherited from another class."
   ]
  },
  {
   "cell_type": "code",
   "execution_count": null,
   "metadata": {},
   "outputs": [],
   "source": [
    "class SuperAdmin(Admin):\n",
    "    def __init__(self, username, email, access_level, region):\n",
    "        super().__init__(username, email, access_level)\n",
    "        self.region = region\n",
    "\n",
    "    def display_super_admin_info(self):\n",
    "        print(f\"Super Admin Region: {self.region}\")"
   ]
  },
  {
   "cell_type": "markdown",
   "metadata": {},
   "source": [
    "### 4. Hierarchical Inheritance\n",
    "In hierarchical inheritance, multiple child classes inherit from the same parent class.\n",
    "\n",
    "Both Admin and Seller inherit from User."
   ]
  },
  {
   "cell_type": "code",
   "execution_count": null,
   "metadata": {},
   "outputs": [],
   "source": [
    "class Seller(User):\n",
    "    def __init__(self, username, email, shop_name):\n",
    "        super().__init__(username, email)\n",
    "        self.shop_name = shop_name\n",
    "\n",
    "    def display_seller_info(self):\n",
    "        print(f\"Shop Name: {self.shop_name}\")"
   ]
  },
  {
   "cell_type": "markdown",
   "metadata": {},
   "source": [
    "### Overriding Methods in Child Classes\n",
    "Child classes can override methods from the parent class to provide their own implementation."
   ]
  },
  {
   "cell_type": "code",
   "execution_count": null,
   "metadata": {},
   "outputs": [],
   "source": [
    "class User:\n",
    "    def __init__(self, username, email):\n",
    "        self.username = username\n",
    "        self.email = email\n",
    "\n",
    "    def display_user_info(self):\n",
    "        print(f\"User: {self.username}, Email: {self.email}\")"
   ]
  },
  {
   "cell_type": "code",
   "execution_count": null,
   "metadata": {},
   "outputs": [],
   "source": [
    "class Customer(User):\n",
    "    def display_user_info(self):\n",
    "        print(f\"Customer: {self.username}, Email: {self.email}\")"
   ]
  },
  {
   "cell_type": "markdown",
   "metadata": {},
   "source": [
    "### Example of Method Overriding:\n",
    "In this example, Customer overrides the display_user_info() method to provide a different message format from the parent User class."
   ]
  },
  {
   "cell_type": "code",
   "execution_count": null,
   "metadata": {},
   "outputs": [],
   "source": [
    "user = Customer(\"john_doe\", \"john@example.com\")\n",
    "user.display_user_info()  # This will call the overridden method in Customer"
   ]
  },
  {
   "cell_type": "code",
   "execution_count": null,
   "metadata": {},
   "outputs": [],
   "source": [
    "class TopLevel:\n",
    "    top_class_var = 100\n",
    "    def __init__(self):\n",
    "        self.top_var = 101\n",
    "\n",
    "    def top_method(self):\n",
    "        return 102\n",
    "\n",
    "\n",
    "class MidLevel(TopLevel):\n",
    "    mid_class_var = 200\n",
    "    def __init__(self):\n",
    "        super().__init__()\n",
    "        self.mid_var = 201\n",
    "    \n",
    "    def mid_method(self):\n",
    "        return 202\n",
    "\n",
    "\n",
    "class LowerLevel(MidLevel):\n",
    "    lower_class_var = 300\n",
    "    def __init__(self):\n",
    "        super().__init__()\n",
    "        self.lower_var = 301\n",
    "\n",
    "    def lower_method(self):\n",
    "        return 302\n",
    "\n",
    "\n",
    "obj = LowerLevel()\n",
    "\n",
    "print(isinstance(obj, TopLevel))\n",
    "print(issubclass(TopLevel, LowerLevel))\n",
    "\n",
    "\n",
    "# print(obj.top_class_var, obj.top_var, obj.top_method())\n",
    "# print(obj.mid_class_var, obj.mid_var, obj.mid_method())\n",
    "# print(obj.lower_class_var, obj.lower_var, obj.lower_method())\n",
    "\n",
    "obj1 = LowerLevel()\n",
    "obj2 = LowerLevel()\n",
    "print(obj1==obj2)"
   ]
  },
  {
   "cell_type": "markdown",
   "metadata": {},
   "source": [
    "### Method Resolution Order (MRO)\n",
    "- Multi-level inheritance: Class `B` is subclass of class `A`. \n",
    "- Multiple Iheritance: Class `D` is subclass of multiple classes. Here in this case class `B` and class `C`.\n",
    "\n",
    "**Important Considerations:**\n",
    "1. Too much good thing is a bad thing --> For inheritance, try not to add more than 3 levels in multi-level inheritance.\n",
    "2. In Multiple inheritance, The method should be called for the left class. `D().info()` shall call the `info` method of class `B` because from left-to-right, it is comes first. \n",
    "3. Pythons finds the method in left to right or bottom to top order. \n",
    "4. If we do \n",
    "```python\n",
    "class D(A,C):\n",
    "    pass\n",
    "\n",
    "D().infor()\n",
    "```\n",
    "we shall get MRO error."
   ]
  },
  {
   "cell_type": "code",
   "execution_count": null,
   "metadata": {},
   "outputs": [
    {
     "name": "stdout",
     "output_type": "stream",
     "text": [
      "Class B\n"
     ]
    }
   ],
   "source": [
    "class A:\n",
    "    def info(self):\n",
    "        print('Class A')\n",
    "\n",
    "class B(A):\n",
    "    def info(self):\n",
    "        print('Class B')\n",
    "\n",
    "class C(A):\n",
    "    def info(self):\n",
    "        print('Class C')\n",
    "\n",
    "class D(B, C):\n",
    "    pass\n",
    "\n",
    "D().info()  # equivalent to d.info() where d = D()"
   ]
  },
  {
   "cell_type": "code",
   "execution_count": null,
   "metadata": {},
   "outputs": [
    {
     "data": {
      "text/plain": [
       "False"
      ]
     },
     "execution_count": 39,
     "metadata": {},
     "output_type": "execute_result"
    }
   ],
   "source": [
    "isinstance(t1, Person)\n",
    "issubclass(Student, Teacher)"
   ]
  }
 ],
 "metadata": {
  "kernelspec": {
   "display_name": "Python 3",
   "language": "python",
   "name": "python3"
  },
  "language_info": {
   "codemirror_mode": {
    "name": "ipython",
    "version": 3
   },
   "file_extension": ".py",
   "mimetype": "text/x-python",
   "name": "python",
   "nbconvert_exporter": "python",
   "pygments_lexer": "ipython3",
   "version": "3.12.8"
  }
 },
 "nbformat": 4,
 "nbformat_minor": 2
}
