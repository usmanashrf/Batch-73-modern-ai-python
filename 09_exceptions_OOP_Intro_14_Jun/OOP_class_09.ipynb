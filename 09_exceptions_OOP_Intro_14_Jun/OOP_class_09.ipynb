{
  "nbformat": 4,
  "nbformat_minor": 0,
  "metadata": {
    "colab": {
      "provenance": []
    },
    "kernelspec": {
      "name": "python3",
      "display_name": "Python 3"
    },
    "language_info": {
      "name": "python"
    }
  },
  "cells": [
    {
      "cell_type": "code",
      "execution_count": 3,
      "metadata": {
        "colab": {
          "base_uri": "https://localhost:8080/"
        },
        "id": "EApcKb6ORzZt",
        "outputId": "69f47a06-dec2-4e38-a4fb-48b3576a74bb"
      },
      "outputs": [
        {
          "output_type": "stream",
          "name": "stdout",
          "text": [
            "ABC\n",
            "XYZ\n",
            "2025\n",
            "ABC\n",
            "XYZ\n",
            "2025\n"
          ]
        }
      ],
      "source": [
        "class Car:\n",
        "    # class properties\n",
        "    name = \"ABC\"\n",
        "    model = \"XYZ\"\n",
        "    year = 2025\n",
        "    number_of_tyres = 4\n",
        "    engine = '1300cc'\n",
        "\n",
        "# Creating object of class (create instance of class)\n",
        "mehran = Car()\n",
        "print(mehran.name)\n",
        "print(mehran.model)\n",
        "print(mehran.year)\n",
        "\n",
        "honda = Car()\n",
        "print(honda.name)\n",
        "print(honda.model)\n",
        "print(honda.year)\n",
        "\n"
      ]
    },
    {
      "cell_type": "code",
      "source": [
        "class Car:\n",
        "    fuel_type = 'petrol'\n",
        "    no_of_tyres = 4\n",
        "    doors = 5\n",
        "    # create constructor\n",
        "    def __init__(self, make, model, year):\n",
        "        #self=obj1\n",
        "        self.make = make # obj1.make=honda\n",
        "        self.model = model # obj1.model=city\n",
        "        self.year = year # obj1.year=2025\n",
        "        self.doors = 4\n",
        "        print(self)\n",
        "\n",
        "    def start(self):\n",
        "        print(f\"{self.model} starting.. \")\n",
        "\n",
        "obj1 = Car(\"honda\", \"city\", 2025)\n",
        "# print(f\" Honda: {obj1.make}\")\n",
        "# print(obj1.model)\n",
        "# print(obj1.year)\n",
        "\n",
        "mehran = Car(\"suzuki\", \"mehran\", 2023)\n",
        "# print(mehran.make)\n",
        "# print(mehran.model)\n",
        "# print(mehran.year)\n",
        "\n",
        "obj3 = Car(\"toyota\", \"corolla\", 2022)\n",
        "# print(obj3.make)\n",
        "# print(obj3.model)\n",
        "# print(obj3.year)\n",
        "\n",
        "# print(f\"obj1: {obj1.doors}\")\n",
        "# print(f\"mehran: {mehran.doors}\")\n",
        "# print(f\"Class Doors: {Car.doors}\")\n",
        "\n",
        "obj1.start()\n",
        "mehran.start()\n",
        "obj3.start()"
      ],
      "metadata": {
        "colab": {
          "base_uri": "https://localhost:8080/"
        },
        "id": "NqTDGMs1S6xx",
        "outputId": "7442ef64-4642-4c5b-93e0-37a29db136ec"
      },
      "execution_count": 29,
      "outputs": [
        {
          "output_type": "stream",
          "name": "stdout",
          "text": [
            "<__main__.Car object at 0x7ac64e93ca10>\n",
            "<__main__.Car object at 0x7ac64e93c290>\n",
            "<__main__.Car object at 0x7ac64e93cc50>\n",
            "city starting.. \n",
            "mehran starting.. \n",
            "corolla starting.. \n"
          ]
        }
      ]
    }
  ]
}