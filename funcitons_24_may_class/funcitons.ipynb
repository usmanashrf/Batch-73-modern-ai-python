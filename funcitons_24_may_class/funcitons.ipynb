{
  "nbformat": 4,
  "nbformat_minor": 0,
  "metadata": {
    "colab": {
      "provenance": []
    },
    "kernelspec": {
      "name": "python3",
      "display_name": "Python 3"
    },
    "language_info": {
      "name": "python"
    }
  },
  "cells": [
    {
      "cell_type": "code",
      "execution_count": 2,
      "metadata": {
        "colab": {
          "base_uri": "https://localhost:8080/"
        },
        "id": "uUaq3yanp6TP",
        "outputId": "3f36b43b-6cfa-4c8f-e9a1-44a41ae4e6d8"
      },
      "outputs": [
        {
          "output_type": "stream",
          "name": "stdout",
          "text": [
            "3\n"
          ]
        }
      ],
      "source": [
        "mat = [\n",
        "    [1,2,3],\n",
        "    [4,5,6],\n",
        "    [7,8,9]\n",
        "]\n",
        "\n",
        "print(mat[0][2])\n",
        "\n"
      ]
    },
    {
      "cell_type": "code",
      "source": [
        "for row  in mat:\n",
        "    for col in row:\n",
        "        col+=1\n",
        "        print(col)\n",
        "        print('+=========+')\n",
        ""
      ],
      "metadata": {
        "colab": {
          "base_uri": "https://localhost:8080/"
        },
        "id": "JxEHOusTs-Xm",
        "outputId": "f1e0d297-4878-4da8-98b3-91b45c637b50"
      },
      "execution_count": 6,
      "outputs": [
        {
          "output_type": "stream",
          "name": "stdout",
          "text": [
            "2\n",
            "+=========+\n",
            "3\n",
            "+=========+\n",
            "4\n",
            "+=========+\n",
            "5\n",
            "+=========+\n",
            "6\n",
            "+=========+\n",
            "7\n",
            "+=========+\n",
            "8\n",
            "+=========+\n",
            "9\n",
            "+=========+\n",
            "10\n",
            "+=========+\n"
          ]
        }
      ]
    },
    {
      "cell_type": "markdown",
      "source": [
        "# Functions\n"
      ],
      "metadata": {
        "id": "Sko9OPSQuknu"
      }
    },
    {
      "cell_type": "code",
      "source": [
        "valid_user_name =\"usman\"\n",
        "valid_user_password=\"123\"\n",
        "\n",
        "\n",
        "number_of_attempts = 3\n",
        "\n",
        "while number_of_attempts > 0:  # 0 > 0 -> flase\n",
        "  user_name = input(\"Enter your user name..\") # usman\n",
        "  user_Password = input(\"Enter your password...\") #123\n",
        "\n",
        "     # (usman ==  usman) true  and 123 == 123\n",
        "  if user_name == valid_user_name and user_Password == valid_user_password:\n",
        "    print(\"Login Successful\")\n",
        "  else:\n",
        "    print(\"Invalid Credentials\")\n",
        "\n",
        "  print(\"===========\")\n",
        "  number_of_attempts -= 1 #1 -1 = 0"
      ],
      "metadata": {
        "id": "ArNTbzNOu_rl"
      },
      "execution_count": null,
      "outputs": []
    },
    {
      "cell_type": "markdown",
      "source": [],
      "metadata": {
        "id": "ETuXy0A-wXrN"
      }
    },
    {
      "cell_type": "code",
      "source": [
        "# print('Hi Rehan')\n",
        "# print('Hi Usman')\n",
        "# print('Hi Ibtisam')\n",
        "\n",
        "\n",
        "def greet(name: str):\n",
        "    print(f'Hi {name}')\n",
        "    # 100 lines of code\n",
        "\n",
        "greet(\"Rehan\")\n"
      ],
      "metadata": {
        "colab": {
          "base_uri": "https://localhost:8080/"
        },
        "id": "47JWVKglvJS0",
        "outputId": "aca9ef91-5709-444f-f0cd-8c39a5084d01"
      },
      "execution_count": 7,
      "outputs": [
        {
          "output_type": "stream",
          "name": "stdout",
          "text": [
            "Hi Rehan\n"
          ]
        }
      ]
    },
    {
      "cell_type": "code",
      "source": [
        "greet(\"Usman\")"
      ],
      "metadata": {
        "colab": {
          "base_uri": "https://localhost:8080/"
        },
        "id": "NbSAZzjMwdst",
        "outputId": "af4c9972-399f-4d93-d221-32206e56a489"
      },
      "execution_count": 8,
      "outputs": [
        {
          "output_type": "stream",
          "name": "stdout",
          "text": [
            "Hi Usman\n"
          ]
        }
      ]
    },
    {
      "cell_type": "code",
      "source": [
        "# define the function\n",
        "def add(a: int, b: int):\n",
        "    # code the logic here\n",
        "    resutl = a + b\n",
        "    print(resutl)\n",
        "\n",
        "\n",
        "\n",
        "# invoke the function\n",
        "add(5,6)"
      ],
      "metadata": {
        "colab": {
          "base_uri": "https://localhost:8080/"
        },
        "id": "ckTnfhTcySy9",
        "outputId": "6a1d5627-4fea-4692-9acd-178f0f8e3350"
      },
      "execution_count": 9,
      "outputs": [
        {
          "output_type": "stream",
          "name": "stdout",
          "text": [
            "11\n"
          ]
        }
      ]
    },
    {
      "cell_type": "code",
      "source": [
        "add(8,6)"
      ],
      "metadata": {
        "colab": {
          "base_uri": "https://localhost:8080/"
        },
        "id": "w_JPfxwczNUd",
        "outputId": "0bbfdecf-fe6d-43e4-c5d8-99a42c564e9d"
      },
      "execution_count": 10,
      "outputs": [
        {
          "output_type": "stream",
          "name": "stdout",
          "text": [
            "14\n"
          ]
        }
      ]
    },
    {
      "cell_type": "code",
      "source": [
        "#1. no input -> no output\n",
        "#2 input -> no output\n",
        "#3 no input -> output\n",
        "#4 input -> output"
      ],
      "metadata": {
        "id": "NV53g5nxzYwE"
      },
      "execution_count": null,
      "outputs": []
    },
    {
      "cell_type": "code",
      "source": [
        "# No Input -> No Output\n",
        "def multiply():\n",
        "    first_number = int(input(\"Enter first number: \"))\n",
        "    second_number = int(input(\"Enter second number: \"))\n",
        "    result = first_number * second_number\n",
        "    print(result)\n",
        "\n",
        "\n",
        "multiply()"
      ],
      "metadata": {
        "colab": {
          "base_uri": "https://localhost:8080/"
        },
        "id": "kgy55_jlzx09",
        "outputId": "f1020867-1ff8-407a-eb38-8a1e85e83ada"
      },
      "execution_count": 11,
      "outputs": [
        {
          "output_type": "stream",
          "name": "stdout",
          "text": [
            "Enter first number: 65\n",
            "Enter second number: 2\n",
            "130\n"
          ]
        }
      ]
    },
    {
      "cell_type": "code",
      "source": [
        "# Input -> No Output\n",
        "def multiply(a, b):\n",
        "    result = a * b\n",
        "    print(result)\n",
        "\n",
        "first_number = int(input(\"Enter first number: \"))\n",
        "second_number = int(input(\"Enter second number: \"))\n",
        "\n",
        "multiply(first_number, second_number)"
      ],
      "metadata": {
        "colab": {
          "base_uri": "https://localhost:8080/"
        },
        "id": "NBkOSmQx0tYt",
        "outputId": "dce3bf84-9351-44f0-fd73-52d14f66b32a"
      },
      "execution_count": 12,
      "outputs": [
        {
          "output_type": "stream",
          "name": "stdout",
          "text": [
            "Enter first number: 54\n",
            "Enter second number: 23\n",
            "1242\n"
          ]
        }
      ]
    },
    {
      "cell_type": "code",
      "source": [
        "# No Input -> Output\n",
        "def multiply():\n",
        "    first_number = int(input(\"Enter first number: \"))\n",
        "    second_number = int(input(\"Enter second number: \"))\n",
        "    result = first_number * second_number\n",
        "    return result\n",
        "    # print(result)\n",
        "\n",
        "\n",
        "result = multiply() #20\n",
        "\n",
        "print(\"outside of function....\",result)"
      ],
      "metadata": {
        "colab": {
          "base_uri": "https://localhost:8080/"
        },
        "id": "rfGkui3B1L4d",
        "outputId": "0f75b73e-9fe0-49a0-915e-a3869650a7be"
      },
      "execution_count": 16,
      "outputs": [
        {
          "output_type": "stream",
          "name": "stdout",
          "text": [
            "Enter first number: 4\n",
            "Enter second number: 5\n",
            "outside of function.... 20\n"
          ]
        }
      ]
    },
    {
      "cell_type": "code",
      "source": [
        "#4 input -> output\n",
        "\n",
        "def multiply(a, b):\n",
        "    result = a * b\n",
        "    return result\n",
        "\n",
        "first_number = int(input(\"Enter first number: \"))\n",
        "second_number = int(input(\"Enter second number: \"))\n",
        "\n",
        "result = multiply(first_number, second_number) #20\n",
        "print(a)\n",
        "print(b)"
      ],
      "metadata": {
        "id": "uKPNezqk4GSf"
      },
      "execution_count": null,
      "outputs": []
    },
    {
      "cell_type": "code",
      "source": [
        "# first add 3 and 7 then mulitiply the result with 34"
      ],
      "metadata": {
        "id": "cZuGmSN05Ezo"
      },
      "execution_count": null,
      "outputs": []
    },
    {
      "cell_type": "code",
      "source": [
        "def add(a, b):\n",
        "    # print (a + b)\n",
        "    return a + b\n",
        "\n",
        "\n",
        "def multiply(a,b):\n",
        "    return a * b\n",
        "\n",
        "\n",
        "result = add(3,7)\n",
        "\n",
        "mult_result = multiply(result,34)\n",
        "print (mult_result)\n",
        "\n",
        "\n"
      ],
      "metadata": {
        "colab": {
          "base_uri": "https://localhost:8080/"
        },
        "id": "AT456YqI5OJW",
        "outputId": "989aea87-cfd7-4418-e13f-49d657f83c17"
      },
      "execution_count": 19,
      "outputs": [
        {
          "output_type": "stream",
          "name": "stdout",
          "text": [
            "340\n"
          ]
        }
      ]
    },
    {
      "cell_type": "code",
      "source": [
        "def teacher_info(name: str, age: int):\n",
        "    print(f\"Hello {name}! Your age is {age}\")\n",
        "\n",
        "\n",
        "teacher_info(\"Rehan\", 30)"
      ],
      "metadata": {
        "colab": {
          "base_uri": "https://localhost:8080/"
        },
        "id": "vXp1Vl2974n-",
        "outputId": "821a756b-9463-4496-f568-18dd0d6e94e6"
      },
      "execution_count": 20,
      "outputs": [
        {
          "output_type": "stream",
          "name": "stdout",
          "text": [
            "Hello Rehan! Your age is 30\n"
          ]
        }
      ]
    },
    {
      "cell_type": "code",
      "source": [
        "teacher_info(18, 'Usman')"
      ],
      "metadata": {
        "colab": {
          "base_uri": "https://localhost:8080/"
        },
        "id": "kT12txib8N5d",
        "outputId": "9efacf01-cdcd-4653-a4a1-55f002983012"
      },
      "execution_count": 22,
      "outputs": [
        {
          "output_type": "stream",
          "name": "stdout",
          "text": [
            "Hello 18! Your age is Usman\n"
          ]
        }
      ]
    },
    {
      "cell_type": "code",
      "source": [
        "def teacher_info(name: str, age: int):\n",
        "    print(f\"Hello {name}! Your age is {age}\")\n",
        "\n",
        "\n",
        "teacher_info(\"Rehan\", 30)\n",
        "# teacher_info()"
      ],
      "metadata": {
        "colab": {
          "base_uri": "https://localhost:8080/",
          "height": 180
        },
        "id": "3wyjvtrp9Nht",
        "outputId": "d373eeb8-4430-4994-e92a-a307c25cab4a"
      },
      "execution_count": 26,
      "outputs": [
        {
          "output_type": "error",
          "ename": "TypeError",
          "evalue": "teacher_info() missing 2 required positional arguments: 'name' and 'age'",
          "traceback": [
            "\u001b[0;31m---------------------------------------------------------------------------\u001b[0m",
            "\u001b[0;31mTypeError\u001b[0m                                 Traceback (most recent call last)",
            "\u001b[0;32m<ipython-input-26-0c91ee6418e1>\u001b[0m in \u001b[0;36m<cell line: 0>\u001b[0;34m()\u001b[0m\n\u001b[1;32m      4\u001b[0m \u001b[0;34m\u001b[0m\u001b[0m\n\u001b[1;32m      5\u001b[0m \u001b[0;31m# teacher_info(\"Rehan\", 30)\u001b[0m\u001b[0;34m\u001b[0m\u001b[0;34m\u001b[0m\u001b[0m\n\u001b[0;32m----> 6\u001b[0;31m \u001b[0mteacher_info\u001b[0m\u001b[0;34m(\u001b[0m\u001b[0;34m)\u001b[0m\u001b[0;34m\u001b[0m\u001b[0;34m\u001b[0m\u001b[0m\n\u001b[0m",
            "\u001b[0;31mTypeError\u001b[0m: teacher_info() missing 2 required positional arguments: 'name' and 'age'"
          ]
        }
      ]
    },
    {
      "cell_type": "code",
      "source": [
        "teacher_info(age=18, name='Usman')"
      ],
      "metadata": {
        "colab": {
          "base_uri": "https://localhost:8080/"
        },
        "id": "bjZHHobk9ciN",
        "outputId": "870f6223-db59-4a77-9f46-b1a90b7a2447"
      },
      "execution_count": 25,
      "outputs": [
        {
          "output_type": "stream",
          "name": "stdout",
          "text": [
            "Hello Usman! Your age is 18\n"
          ]
        }
      ]
    },
    {
      "cell_type": "code",
      "source": [
        "def teacher_info(name='Test', age=12):\n",
        "    print(f\"Hello {name}! Your age is {age}\")\n",
        "\n",
        "\n",
        "teacher_info()\n",
        "teacher_info(\"Rehan\")"
      ],
      "metadata": {
        "colab": {
          "base_uri": "https://localhost:8080/"
        },
        "id": "F_WFCBo79-wX",
        "outputId": "f72987fa-a7ac-49ff-d12a-9e5e0f2661a2"
      },
      "execution_count": 28,
      "outputs": [
        {
          "output_type": "stream",
          "name": "stdout",
          "text": [
            "Hello Test! Your age is 12\n",
            "Hello Rehan! Your age is 12\n"
          ]
        }
      ]
    },
    {
      "cell_type": "code",
      "source": [
        "teacher_info(age=18)"
      ],
      "metadata": {
        "colab": {
          "base_uri": "https://localhost:8080/"
        },
        "id": "y04FOdlg-pj1",
        "outputId": "0f96a721-14b2-45ab-c240-51b428b30f9e"
      },
      "execution_count": 30,
      "outputs": [
        {
          "output_type": "stream",
          "name": "stdout",
          "text": [
            "Hello Test! Your age is 18\n"
          ]
        }
      ]
    },
    {
      "cell_type": "code",
      "source": [
        "teacher_info(name='Rehan')"
      ],
      "metadata": {
        "colab": {
          "base_uri": "https://localhost:8080/"
        },
        "id": "A1VBx0ZT-0-n",
        "outputId": "7b523aea-e0eb-4be6-d595-f43154eda4c3"
      },
      "execution_count": 31,
      "outputs": [
        {
          "output_type": "stream",
          "name": "stdout",
          "text": [
            "Hello Rehan! Your age is 12\n"
          ]
        }
      ]
    },
    {
      "cell_type": "code",
      "source": [
        "teacher_info('Rehan',30)"
      ],
      "metadata": {
        "colab": {
          "base_uri": "https://localhost:8080/"
        },
        "id": "6oEZfwGK-5VV",
        "outputId": "24388811-47c4-487c-c6a1-9ec4538b0446"
      },
      "execution_count": 32,
      "outputs": [
        {
          "output_type": "stream",
          "name": "stdout",
          "text": [
            "Hello Rehan! Your age is 30\n"
          ]
        }
      ]
    },
    {
      "cell_type": "code",
      "source": [
        "def simple_func(*names):\n",
        "    for name in names:\n",
        "        print(name)\n",
        "    print(type(names))\n",
        "\n",
        "\n",
        "simple_func(\"Rehan\",\"Usman\",\"Ibtisam\")\n",
        "\n"
      ],
      "metadata": {
        "colab": {
          "base_uri": "https://localhost:8080/"
        },
        "id": "ZHK6bf3jPHTb",
        "outputId": "c37f6005-1a07-40dd-ecf2-b66591b194f0"
      },
      "execution_count": 61,
      "outputs": [
        {
          "output_type": "stream",
          "name": "stdout",
          "text": [
            "Rehan\n",
            "Usman\n",
            "Ibtisam\n",
            "<class 'tuple'>\n"
          ]
        }
      ]
    },
    {
      "cell_type": "code",
      "source": [
        "def simple_func(*names):\n",
        "    for name in names:\n",
        "        print(name)\n",
        "    print(type(names))\n",
        "\n",
        "names = [\"Rehan\", \"Usman\", \"Ibtisam\"]\n",
        "\n",
        "simple_func(*names) # list unpacking"
      ],
      "metadata": {
        "colab": {
          "base_uri": "https://localhost:8080/"
        },
        "id": "yXBGFDLjQY2j",
        "outputId": "33d67223-cfd8-4d94-a0e7-31e092c1235e"
      },
      "execution_count": 62,
      "outputs": [
        {
          "output_type": "stream",
          "name": "stdout",
          "text": [
            "Rehan\n",
            "Usman\n",
            "Ibtisam\n",
            "<class 'tuple'>\n"
          ]
        }
      ]
    },
    {
      "cell_type": "code",
      "source": [
        "def simple_func(**kwargs):\n",
        "\n",
        "    for key, value in kwargs.items(): # (name,rehan  ),(age,4)\n",
        "        print(f\"{key} is {value}\")\n",
        "    print(type(kwargs))\n",
        "\n",
        "simple_func(name='Rehan', age=4)\n",
        "a,b=(3,4)\n",
        "print(a,b)"
      ],
      "metadata": {
        "colab": {
          "base_uri": "https://localhost:8080/"
        },
        "id": "eqFnQb6kRS-L",
        "outputId": "0c35b075-e4c3-48bc-f28c-3b6f67cd66dd"
      },
      "execution_count": 71,
      "outputs": [
        {
          "output_type": "stream",
          "name": "stdout",
          "text": [
            "name is Rehan\n",
            "age is 4\n",
            "<class 'dict'>\n",
            "3 4\n"
          ]
        }
      ]
    },
    {
      "cell_type": "code",
      "source": [
        "def simple_func(**kwargs):\n",
        "    for arg in args:\n",
        "        print(name)\n",
        "    print(type(names))\n",
        "\n",
        "names = [\"Rehan\", \"Usman\", \"Ibtisam\"]\n",
        "\n",
        "simple_func(*names)"
      ],
      "metadata": {
        "id": "QxLF6aXBQ6eb"
      },
      "execution_count": null,
      "outputs": []
    },
    {
      "cell_type": "markdown",
      "source": [
        "## Scope in Function"
      ],
      "metadata": {
        "id": "SvuXRmb1ENXK"
      }
    },
    {
      "cell_type": "code",
      "source": [
        "def greetings (name):\n",
        "    name = 'Rehan' # scope is local\n",
        "    print (f\"Hello {name}\")\n",
        "\n",
        "name = 'Usman' # scope is global\n",
        "\n",
        "greetings(name)\n",
        "\n",
        "print(name) # Usman\n"
      ],
      "metadata": {
        "colab": {
          "base_uri": "https://localhost:8080/"
        },
        "id": "akik3Jz9EQgJ",
        "outputId": "826aae5d-51f2-48c2-b4c0-b9e005172526"
      },
      "execution_count": 36,
      "outputs": [
        {
          "output_type": "stream",
          "name": "stdout",
          "text": [
            "Hello Rehan\n",
            "Usman\n"
          ]
        }
      ]
    },
    {
      "cell_type": "code",
      "source": [
        "def check_list (sample_list: list):\n",
        "    sample_list.append(4)\n",
        "    print(sample_list) # [1,2,3,4]\n",
        "\n",
        "\n",
        "sample_list = [1,2,3]\n",
        "\n",
        "check_list(sample_list)\n",
        "\n",
        "print(sample_list)"
      ],
      "metadata": {
        "colab": {
          "base_uri": "https://localhost:8080/"
        },
        "id": "nWes9eC9E9Ra",
        "outputId": "07443e67-ec84-435b-ff0e-fe97338a9b57"
      },
      "execution_count": 39,
      "outputs": [
        {
          "output_type": "stream",
          "name": "stdout",
          "text": [
            "[1, 2, 3, 4]\n",
            "[1, 2, 3, 4]\n"
          ]
        }
      ]
    },
    {
      "cell_type": "code",
      "source": [
        "def check_list (l: list):\n",
        "    l.append(4)\n",
        "    print(l) # [1,2,3,4]\n",
        "\n",
        "\n",
        "sample_list = [1,2,3]\n",
        "\n",
        "check_list(sample_list)\n",
        "\n",
        "print(sample_list)"
      ],
      "metadata": {
        "colab": {
          "base_uri": "https://localhost:8080/"
        },
        "id": "7FzV66-tGNxT",
        "outputId": "8c1d53c9-3999-4e18-d95a-6209e2ff2847"
      },
      "execution_count": 40,
      "outputs": [
        {
          "output_type": "stream",
          "name": "stdout",
          "text": [
            "[1, 2, 3, 4]\n",
            "[1, 2, 3, 4]\n"
          ]
        }
      ]
    },
    {
      "cell_type": "code",
      "source": [
        "# global\n",
        "\n",
        "\n",
        "def greetings(n):\n",
        "    global name\n",
        "    name = 'Rehan'\n",
        "    print(f\"Inside the Function {name}\")\n",
        "\n",
        "name = 'Usman'\n",
        "print(name)\n",
        "\n",
        "greetings(name)\n",
        "\n",
        "print(f\"Outside of function {name}\")\n"
      ],
      "metadata": {
        "colab": {
          "base_uri": "https://localhost:8080/"
        },
        "id": "n4YvgCnsIYMD",
        "outputId": "66c79111-c443-4c3b-906f-e2f47cf31fa3"
      },
      "execution_count": 47,
      "outputs": [
        {
          "output_type": "stream",
          "name": "stdout",
          "text": [
            "Usman\n",
            "Inside the Function Rehan\n",
            "Outside of function Rehan\n"
          ]
        }
      ]
    },
    {
      "cell_type": "markdown",
      "source": [
        "# Factorial\n",
        "\n",
        "3! = 1x2x3\n",
        "5! = 1x2x3x4x5"
      ],
      "metadata": {
        "id": "zFQmWLppJoZq"
      }
    },
    {
      "cell_type": "code",
      "source": [
        "def factorial(n):\n",
        "    if n < 0:\n",
        "        return None\n",
        "    if n < 2:\n",
        "        return 1\n",
        "    else:\n",
        "        result = 1 #120\n",
        "        for i in range(2,n+1): #2, 3, 4, 5\n",
        "            result *= i   # 120\n",
        "        return result\n",
        "print(factorial(6)) # Output: 120\n"
      ],
      "metadata": {
        "colab": {
          "base_uri": "https://localhost:8080/"
        },
        "id": "SLSiiWgAJn-q",
        "outputId": "4e1ebf02-0916-4d06-e1d5-ba6c03627725"
      },
      "execution_count": 49,
      "outputs": [
        {
          "output_type": "stream",
          "name": "stdout",
          "text": [
            "720\n"
          ]
        }
      ]
    },
    {
      "cell_type": "markdown",
      "source": [
        "For Recursion: It is important to add base case in recursion"
      ],
      "metadata": {
        "id": "Uqpmlp9sLOa6"
      }
    },
    {
      "cell_type": "code",
      "source": [
        "def factorial(n): # 1\n",
        "    # Base case\n",
        "    if n < 0:\n",
        "        return None\n",
        "    if n < 2:   # n=1  --> 1\n",
        "        return 1\n",
        "    # Recursive case\n",
        "    return n * factorial(n - 1)  # 5 * 4 * 3 * 2  * 1\n",
        "\n",
        "print(factorial(5))  # Output: 120"
      ],
      "metadata": {
        "colab": {
          "base_uri": "https://localhost:8080/"
        },
        "id": "9DhbawseLLua",
        "outputId": "8f8e33dc-6d00-4775-a99b-896260afc516"
      },
      "execution_count": 50,
      "outputs": [
        {
          "output_type": "stream",
          "name": "stdout",
          "text": [
            "120\n"
          ]
        }
      ]
    },
    {
      "cell_type": "code",
      "source": [
        "# prompt: add lambda function in below example wihout adding map\n",
        "\n",
        "result = (lambda a, b: a * b)(5, 6)\n",
        "result"
      ],
      "metadata": {
        "colab": {
          "base_uri": "https://localhost:8080/"
        },
        "id": "_nn9RpduMu4y",
        "outputId": "69f24870-b4b0-4ebd-f68b-76312808bd73"
      },
      "execution_count": 52,
      "outputs": [
        {
          "output_type": "execute_result",
          "data": {
            "text/plain": [
              "30"
            ]
          },
          "metadata": {},
          "execution_count": 52
        }
      ]
    },
    {
      "cell_type": "code",
      "source": [
        "# A lambda function that adds 10 to a number\n",
        "add_ten = lambda x: x + 10\n",
        "\n",
        "# Call the lambda function\n",
        "print(add_ten(5))  # Output: 15"
      ],
      "metadata": {
        "colab": {
          "base_uri": "https://localhost:8080/"
        },
        "id": "heNlxiU_OBH6",
        "outputId": "2b312ad8-2b08-43e0-d3fa-868c73556d08"
      },
      "execution_count": 53,
      "outputs": [
        {
          "output_type": "stream",
          "name": "stdout",
          "text": [
            "15\n"
          ]
        }
      ]
    },
    {
      "cell_type": "code",
      "source": [
        "# prompt: add example of map with lambda function\n",
        "\n",
        "# Map with a lambda function\n",
        "numbers = [1, 2, 3, 4, 5]\n",
        "squared_numbers = list(map(lambda x: x**2, numbers))\n",
        "squared_numbers"
      ],
      "metadata": {
        "colab": {
          "base_uri": "https://localhost:8080/"
        },
        "id": "LiB2V_qNOhWi",
        "outputId": "d815e01a-0604-4b2a-ba28-a15ff132eec7"
      },
      "execution_count": 54,
      "outputs": [
        {
          "output_type": "execute_result",
          "data": {
            "text/plain": [
              "[1, 4, 9, 16, 25]"
            ]
          },
          "metadata": {},
          "execution_count": 54
        }
      ]
    }
  ]
}