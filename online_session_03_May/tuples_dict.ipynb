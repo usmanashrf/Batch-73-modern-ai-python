{
  "nbformat": 4,
  "nbformat_minor": 0,
  "metadata": {
    "colab": {
      "provenance": []
    },
    "kernelspec": {
      "name": "python3",
      "display_name": "Python 3"
    },
    "language_info": {
      "name": "python"
    }
  },
  "cells": [
    {
      "cell_type": "markdown",
      "source": [
        "# Data Types\n",
        "- str\n",
        "- int\n",
        "- float\n",
        "- bool\n",
        "- list\n"
      ],
      "metadata": {
        "id": "vCd_on8g86L7"
      }
    },
    {
      "cell_type": "code",
      "source": [
        "# Index in python starts from 0\n",
        "list_number = [1, 2, 3, 4]\n",
        "\n",
        "# [start:end:step]\n",
        "list_number[1:3]"
      ],
      "metadata": {
        "colab": {
          "base_uri": "https://localhost:8080/"
        },
        "id": "xu4ZYXLbOPyu",
        "outputId": "3fc387c1-b892-4c03-8b42-fdab373a4575"
      },
      "execution_count": 100,
      "outputs": [
        {
          "output_type": "execute_result",
          "data": {
            "text/plain": [
              "[2, 3]"
            ]
          },
          "metadata": {},
          "execution_count": 100
        }
      ]
    },
    {
      "cell_type": "markdown",
      "source": [
        "## Dictionary\n",
        "- key-value pair\n",
        "- keys shall always be unique\n",
        "- all immutable data types can be keys"
      ],
      "metadata": {
        "id": "Osh5zof19kx2"
      }
    },
    {
      "cell_type": "code",
      "source": [
        "\n",
        "student_names = [\"rehan\", 3]"
      ],
      "metadata": {
        "id": "CMf6SETx9KrC"
      },
      "execution_count": null,
      "outputs": []
    },
    {
      "cell_type": "markdown",
      "source": [
        "student_names = []   \n",
        "\n",
        "student_grades = []"
      ],
      "metadata": {
        "id": "sfUQtJ-29ut0"
      }
    },
    {
      "cell_type": "code",
      "source": [
        "student_names: list[str] = [\"rehan\", \"musa\"]\n",
        "student_grades: list[int] = [90, 95]"
      ],
      "metadata": {
        "id": "1jaAIql8-On8"
      },
      "execution_count": null,
      "outputs": []
    },
    {
      "cell_type": "code",
      "source": [
        "student_grades: dict[str, int] =  {\"rehan\": 90, \"musa\": 95}\n",
        "\n",
        "print(student_grades[\"rehan\"])\n",
        "\n",
        "student_grades[\"musa\"]\n"
      ],
      "metadata": {
        "colab": {
          "base_uri": "https://localhost:8080/"
        },
        "id": "osezE0oX-hIm",
        "outputId": "6f2682a9-9c20-4039-90f8-ebaa2077a8c2"
      },
      "execution_count": 48,
      "outputs": [
        {
          "output_type": "stream",
          "name": "stdout",
          "text": [
            "90\n"
          ]
        },
        {
          "output_type": "execute_result",
          "data": {
            "text/plain": [
              "95"
            ]
          },
          "metadata": {},
          "execution_count": 48
        }
      ]
    },
    {
      "cell_type": "code",
      "source": [
        "# we cannot find keys from values\n",
        "student_grades[90]"
      ],
      "metadata": {
        "colab": {
          "base_uri": "https://localhost:8080/",
          "height": 144
        },
        "id": "jlZtpFGL_vkA",
        "outputId": "950ed9da-82bb-4e40-8428-06dbbce3a3c1"
      },
      "execution_count": 49,
      "outputs": [
        {
          "output_type": "error",
          "ename": "KeyError",
          "evalue": "90",
          "traceback": [
            "\u001b[0;31m---------------------------------------------------------------------------\u001b[0m",
            "\u001b[0;31mKeyError\u001b[0m                                  Traceback (most recent call last)",
            "\u001b[0;32m<ipython-input-49-e6f31935e1ee>\u001b[0m in \u001b[0;36m<cell line: 0>\u001b[0;34m()\u001b[0m\n\u001b[0;32m----> 1\u001b[0;31m \u001b[0mstudent_grades\u001b[0m\u001b[0;34m[\u001b[0m\u001b[0;36m90\u001b[0m\u001b[0;34m]\u001b[0m\u001b[0;34m\u001b[0m\u001b[0;34m\u001b[0m\u001b[0m\n\u001b[0m",
            "\u001b[0;31mKeyError\u001b[0m: 90"
          ]
        }
      ]
    },
    {
      "cell_type": "code",
      "source": [
        "dir(dict)"
      ],
      "metadata": {
        "colab": {
          "base_uri": "https://localhost:8080/"
        },
        "id": "rIKaTgUUA8Bw",
        "outputId": "f58ff7ed-3416-46a0-f618-8bdcc3e5143f"
      },
      "execution_count": 50,
      "outputs": [
        {
          "output_type": "execute_result",
          "data": {
            "text/plain": [
              "['__class__',\n",
              " '__class_getitem__',\n",
              " '__contains__',\n",
              " '__delattr__',\n",
              " '__delitem__',\n",
              " '__dir__',\n",
              " '__doc__',\n",
              " '__eq__',\n",
              " '__format__',\n",
              " '__ge__',\n",
              " '__getattribute__',\n",
              " '__getitem__',\n",
              " '__getstate__',\n",
              " '__gt__',\n",
              " '__hash__',\n",
              " '__init__',\n",
              " '__init_subclass__',\n",
              " '__ior__',\n",
              " '__iter__',\n",
              " '__le__',\n",
              " '__len__',\n",
              " '__lt__',\n",
              " '__ne__',\n",
              " '__new__',\n",
              " '__or__',\n",
              " '__reduce__',\n",
              " '__reduce_ex__',\n",
              " '__repr__',\n",
              " '__reversed__',\n",
              " '__ror__',\n",
              " '__setattr__',\n",
              " '__setitem__',\n",
              " '__sizeof__',\n",
              " '__str__',\n",
              " '__subclasshook__',\n",
              " 'clear',\n",
              " 'copy',\n",
              " 'fromkeys',\n",
              " 'get',\n",
              " 'items',\n",
              " 'keys',\n",
              " 'pop',\n",
              " 'popitem',\n",
              " 'setdefault',\n",
              " 'update',\n",
              " 'values']"
            ]
          },
          "metadata": {},
          "execution_count": 50
        }
      ]
    },
    {
      "cell_type": "code",
      "source": [
        "student_grades: dict[str, int] =  {\"rehan\": 90, \"musa\": 95}\n",
        "student_grades.clear()\n",
        "student_grades"
      ],
      "metadata": {
        "colab": {
          "base_uri": "https://localhost:8080/"
        },
        "id": "tS1RUKq3AHMK",
        "outputId": "21a054d3-407a-44b6-d75c-068e6f1d9870"
      },
      "execution_count": 52,
      "outputs": [
        {
          "output_type": "execute_result",
          "data": {
            "text/plain": [
              "{}"
            ]
          },
          "metadata": {},
          "execution_count": 52
        }
      ]
    },
    {
      "cell_type": "markdown",
      "source": [
        "## Assignment:\n",
        "1. What is difference between deep copy and shallow copy\n",
        "2. How to find max and min values in tuple if the vaues are (a) string (b) list\n",
        "3. All the methods of dictionaries, tuples and sets\n",
        "4. Use membership operator in list, dictionary, tuple, set\n",
        "5. Logical Operators"
      ],
      "metadata": {
        "id": "kZIO9M2LB96r"
      }
    },
    {
      "cell_type": "code",
      "source": [
        "student_grades: dict[str, int] =  {\"rehan\": 90, \"musa\": 95}\n",
        "student_grades['rehan']\n",
        "\n",
        "print(student_grades.get('usman',100))"
      ],
      "metadata": {
        "colab": {
          "base_uri": "https://localhost:8080/"
        },
        "id": "aWw-kYUaCUUP",
        "outputId": "1b9e8d2a-fa58-4551-b1a0-f604261ddb57"
      },
      "execution_count": 59,
      "outputs": [
        {
          "output_type": "stream",
          "name": "stdout",
          "text": [
            "100\n"
          ]
        }
      ]
    },
    {
      "cell_type": "code",
      "source": [
        "student_grades.pop('rehan')"
      ],
      "metadata": {
        "colab": {
          "base_uri": "https://localhost:8080/"
        },
        "id": "Idba1vWrCAal",
        "outputId": "1880baa0-4976-43fa-c543-604ff41834d9"
      },
      "execution_count": 60,
      "outputs": [
        {
          "output_type": "execute_result",
          "data": {
            "text/plain": [
              "90"
            ]
          },
          "metadata": {},
          "execution_count": 60
        }
      ]
    },
    {
      "cell_type": "code",
      "source": [
        "student_grades"
      ],
      "metadata": {
        "colab": {
          "base_uri": "https://localhost:8080/"
        },
        "id": "rZ6Vu87tDkyR",
        "outputId": "f4f422d2-faba-467b-8ec5-1a01033825ee"
      },
      "execution_count": 61,
      "outputs": [
        {
          "output_type": "execute_result",
          "data": {
            "text/plain": [
              "{'musa': 95}"
            ]
          },
          "metadata": {},
          "execution_count": 61
        }
      ]
    },
    {
      "cell_type": "code",
      "source": [
        "new_students = {\"usman\": 100}\n",
        "student_grades =  {\"rehan\": 90, \"musa\": 95}\n",
        "\n",
        "# student_grades.update(new_students)\n",
        "student_grades |= new_students\n",
        "student_grades\n"
      ],
      "metadata": {
        "colab": {
          "base_uri": "https://localhost:8080/"
        },
        "id": "lY30XHbrDutH",
        "outputId": "f1393784-f4bb-4c52-fff4-65cb85e9aaec"
      },
      "execution_count": 64,
      "outputs": [
        {
          "output_type": "execute_result",
          "data": {
            "text/plain": [
              "{'rehan': 90, 'musa': 95, 'usman': 100}"
            ]
          },
          "metadata": {},
          "execution_count": 64
        }
      ]
    },
    {
      "cell_type": "code",
      "source": [
        "# values, keys, items\n",
        "\n",
        "# student_grades.values()\n",
        "# student_grades.keys()\n",
        "student_grades.items()\n"
      ],
      "metadata": {
        "colab": {
          "base_uri": "https://localhost:8080/"
        },
        "id": "vg-OsxTBDzUc",
        "outputId": "efe1203c-502e-4eac-fb5c-c7d6a71a7c18"
      },
      "execution_count": 67,
      "outputs": [
        {
          "output_type": "execute_result",
          "data": {
            "text/plain": [
              "dict_items([('rehan', 90), ('musa', 95), ('usman', 100)])"
            ]
          },
          "metadata": {},
          "execution_count": 67
        }
      ]
    },
    {
      "cell_type": "code",
      "source": [
        "for key, value in student_grades.items():\n",
        "    print(f\"The key is {key} and value is {value}\")"
      ],
      "metadata": {
        "colab": {
          "base_uri": "https://localhost:8080/"
        },
        "id": "c4ntR-SzEhop",
        "outputId": "8534fa0a-7ff2-4536-ba22-5cc29873c2da"
      },
      "execution_count": 68,
      "outputs": [
        {
          "output_type": "stream",
          "name": "stdout",
          "text": [
            "The key is rehan and value is 90\n",
            "The key is musa and value is 95\n",
            "The key is usman and value is 100\n"
          ]
        }
      ]
    },
    {
      "cell_type": "code",
      "source": [
        "student_grades = {\"rehan\":[90, 95,56], \"musa\": {\"english\":90, \"math\":87}}"
      ],
      "metadata": {
        "id": "bLa_qkPQE5ZX"
      },
      "execution_count": null,
      "outputs": []
    },
    {
      "cell_type": "markdown",
      "source": [
        "## Tuple"
      ],
      "metadata": {
        "id": "1Gs7cn9PFgkt"
      }
    },
    {
      "cell_type": "code",
      "source": [
        "student_roll = (1,2,3,4,5) # immutable data type\n",
        "print(id(student_roll))"
      ],
      "metadata": {
        "colab": {
          "base_uri": "https://localhost:8080/"
        },
        "id": "Z-q_OKAfFytf",
        "outputId": "614ba998-3037-43dd-cb44-7e128130a18d"
      },
      "execution_count": 70,
      "outputs": [
        {
          "output_type": "stream",
          "name": "stdout",
          "text": [
            "137555475083120\n"
          ]
        }
      ]
    },
    {
      "cell_type": "code",
      "source": [
        "student_roll = (1,2,3,4)\n",
        "print(id(student_roll))"
      ],
      "metadata": {
        "colab": {
          "base_uri": "https://localhost:8080/"
        },
        "id": "NS_gxa48GSpy",
        "outputId": "3f572289-4115-4192-b3e9-27a5bab8ccbe"
      },
      "execution_count": 71,
      "outputs": [
        {
          "output_type": "stream",
          "name": "stdout",
          "text": [
            "137555473202720\n"
          ]
        }
      ]
    },
    {
      "cell_type": "code",
      "source": [
        "num_list = [1,2,3,4]\n",
        "print(id(num_list))\n",
        "num_list.append(5)\n",
        "print(id(num_list))"
      ],
      "metadata": {
        "colab": {
          "base_uri": "https://localhost:8080/"
        },
        "id": "b6qnOnviGe_l",
        "outputId": "ebafe47c-b275-4588-cceb-485681bda928"
      },
      "execution_count": 72,
      "outputs": [
        {
          "output_type": "stream",
          "name": "stdout",
          "text": [
            "137555473469248\n",
            "137555473469248\n"
          ]
        }
      ]
    },
    {
      "cell_type": "code",
      "source": [
        "dir(tuple)"
      ],
      "metadata": {
        "colab": {
          "base_uri": "https://localhost:8080/"
        },
        "id": "VpK-wFIzGrB1",
        "outputId": "a86102f8-757e-4870-92eb-2344687ec592"
      },
      "execution_count": 74,
      "outputs": [
        {
          "output_type": "execute_result",
          "data": {
            "text/plain": [
              "['__add__',\n",
              " '__class__',\n",
              " '__class_getitem__',\n",
              " '__contains__',\n",
              " '__delattr__',\n",
              " '__dir__',\n",
              " '__doc__',\n",
              " '__eq__',\n",
              " '__format__',\n",
              " '__ge__',\n",
              " '__getattribute__',\n",
              " '__getitem__',\n",
              " '__getnewargs__',\n",
              " '__getstate__',\n",
              " '__gt__',\n",
              " '__hash__',\n",
              " '__init__',\n",
              " '__init_subclass__',\n",
              " '__iter__',\n",
              " '__le__',\n",
              " '__len__',\n",
              " '__lt__',\n",
              " '__mul__',\n",
              " '__ne__',\n",
              " '__new__',\n",
              " '__reduce__',\n",
              " '__reduce_ex__',\n",
              " '__repr__',\n",
              " '__rmul__',\n",
              " '__setattr__',\n",
              " '__sizeof__',\n",
              " '__str__',\n",
              " '__subclasshook__',\n",
              " 'count',\n",
              " 'index']"
            ]
          },
          "metadata": {},
          "execution_count": 74
        }
      ]
    },
    {
      "cell_type": "code",
      "source": [
        "student_roll: tuple[int] = (1,2,3,4,2)\n",
        "\n",
        "print(len(student_roll))\n",
        "print(max(student_roll))\n",
        "print(min(student_roll))"
      ],
      "metadata": {
        "colab": {
          "base_uri": "https://localhost:8080/"
        },
        "id": "pFUslGxcHMr_",
        "outputId": "c831a081-cb82-404f-e8e0-e4dd8162e1ee"
      },
      "execution_count": 79,
      "outputs": [
        {
          "output_type": "stream",
          "name": "stdout",
          "text": [
            "5\n",
            "4\n"
          ]
        }
      ]
    },
    {
      "cell_type": "code",
      "source": [
        "student_name_tup = (\"rehan\", \"musa\") #ASCII\n",
        "print(max(student_name_tup))\n",
        "print(min(student_name_tup))"
      ],
      "metadata": {
        "colab": {
          "base_uri": "https://localhost:8080/"
        },
        "id": "8KayS3qaHkhV",
        "outputId": "d5e39402-fbfc-4aed-9bbe-81ef6a7bfc4f"
      },
      "execution_count": 81,
      "outputs": [
        {
          "output_type": "stream",
          "name": "stdout",
          "text": [
            "rehan\n",
            "musa\n"
          ]
        }
      ]
    },
    {
      "cell_type": "code",
      "source": [
        "first_number = (4,)\n",
        "print(first_number)\n",
        "print(type(first_number))"
      ],
      "metadata": {
        "colab": {
          "base_uri": "https://localhost:8080/"
        },
        "id": "G9mw7R-HI_uU",
        "outputId": "c80193a9-ccd8-4939-c990-2295b4f5367b"
      },
      "execution_count": 86,
      "outputs": [
        {
          "output_type": "stream",
          "name": "stdout",
          "text": [
            "4\n",
            "<class 'int'>\n"
          ]
        }
      ]
    },
    {
      "cell_type": "code",
      "source": [
        "num_tup = (5,) * 3\n",
        "num_tup"
      ],
      "metadata": {
        "colab": {
          "base_uri": "https://localhost:8080/"
        },
        "id": "Cs1Yy00WJXHs",
        "outputId": "f04357ea-500d-4eff-b8f2-ed798d640484"
      },
      "execution_count": 88,
      "outputs": [
        {
          "output_type": "execute_result",
          "data": {
            "text/plain": [
              "(5, 5, 5)"
            ]
          },
          "metadata": {},
          "execution_count": 88
        }
      ]
    },
    {
      "cell_type": "code",
      "source": [
        "scores = (10, 20, 30) #unpack\n",
        "x , y, z = scores # Tuple unpakcing\n",
        "print(x)\n",
        "print(y)\n",
        "\n"
      ],
      "metadata": {
        "colab": {
          "base_uri": "https://localhost:8080/"
        },
        "id": "K-DGcqKxJyFw",
        "outputId": "0c9dc85b-5e4c-4c2d-9cdd-dc8dc3fd83e0"
      },
      "execution_count": 91,
      "outputs": [
        {
          "output_type": "stream",
          "name": "stdout",
          "text": [
            "10\n",
            "20\n"
          ]
        }
      ]
    },
    {
      "cell_type": "code",
      "source": [
        "teacher_names = (\"Rehan\", \"Usman\", \"Ibtisam\")\n",
        "teacher_names.index(\"Rehan\")"
      ],
      "metadata": {
        "colab": {
          "base_uri": "https://localhost:8080/"
        },
        "id": "R2rO14fDKbJh",
        "outputId": "04574c26-66f1-448c-fe88-122e3f8610bb"
      },
      "execution_count": 94,
      "outputs": [
        {
          "output_type": "execute_result",
          "data": {
            "text/plain": [
              "0"
            ]
          },
          "metadata": {},
          "execution_count": 94
        }
      ]
    },
    {
      "cell_type": "code",
      "source": [
        "student_ids = (1, 2, 3)\n",
        "\n"
      ],
      "metadata": {
        "id": "vkanLCocK0sn"
      },
      "execution_count": null,
      "outputs": []
    },
    {
      "cell_type": "markdown",
      "source": [
        "'A'  'a'  "
      ],
      "metadata": {
        "id": "cQdFUU-RIyys"
      }
    },
    {
      "cell_type": "code",
      "source": [
        "guest_list = [\"Rehan\", \"Usman\", \"Ibtisam\", \"Rehan\"]"
      ],
      "metadata": {
        "id": "2Af7W8PXLyq4"
      },
      "execution_count": null,
      "outputs": []
    },
    {
      "cell_type": "code",
      "source": [
        "grocery_item = [\"soap\", \"toothpaste\", \"toothbrush\", \"soap\"]"
      ],
      "metadata": {
        "id": "QlJqn1f5MGn0"
      },
      "execution_count": null,
      "outputs": []
    },
    {
      "cell_type": "code",
      "source": [
        "num_set = {1, 2, 4}\n",
        "print(num_set)"
      ],
      "metadata": {
        "colab": {
          "base_uri": "https://localhost:8080/"
        },
        "id": "JWk3pl2nLoOb",
        "outputId": "e908c9a7-f4b0-44e0-bacb-338bea8b2875"
      },
      "execution_count": 95,
      "outputs": [
        {
          "output_type": "stream",
          "name": "stdout",
          "text": [
            "{1, 2, 4}\n"
          ]
        }
      ]
    },
    {
      "cell_type": "code",
      "source": [
        "# Sets have always unique values\n",
        "num_set = {1, 2, 4, 2}\n",
        "print(num_set)\n",
        "\n"
      ],
      "metadata": {
        "colab": {
          "base_uri": "https://localhost:8080/"
        },
        "id": "f6z97zOmMWbT",
        "outputId": "1b65112d-626f-4488-caf3-9edf5172cfb2"
      },
      "execution_count": 96,
      "outputs": [
        {
          "output_type": "stream",
          "name": "stdout",
          "text": [
            "{1, 2, 4}\n"
          ]
        }
      ]
    },
    {
      "cell_type": "code",
      "source": [
        "dir(set)"
      ],
      "metadata": {
        "colab": {
          "base_uri": "https://localhost:8080/"
        },
        "id": "bp5lt0VRMq0L",
        "outputId": "1f997c52-516d-4cc7-c835-f950053cf935"
      },
      "execution_count": 97,
      "outputs": [
        {
          "output_type": "execute_result",
          "data": {
            "text/plain": [
              "['__and__',\n",
              " '__class__',\n",
              " '__class_getitem__',\n",
              " '__contains__',\n",
              " '__delattr__',\n",
              " '__dir__',\n",
              " '__doc__',\n",
              " '__eq__',\n",
              " '__format__',\n",
              " '__ge__',\n",
              " '__getattribute__',\n",
              " '__getstate__',\n",
              " '__gt__',\n",
              " '__hash__',\n",
              " '__iand__',\n",
              " '__init__',\n",
              " '__init_subclass__',\n",
              " '__ior__',\n",
              " '__isub__',\n",
              " '__iter__',\n",
              " '__ixor__',\n",
              " '__le__',\n",
              " '__len__',\n",
              " '__lt__',\n",
              " '__ne__',\n",
              " '__new__',\n",
              " '__or__',\n",
              " '__rand__',\n",
              " '__reduce__',\n",
              " '__reduce_ex__',\n",
              " '__repr__',\n",
              " '__ror__',\n",
              " '__rsub__',\n",
              " '__rxor__',\n",
              " '__setattr__',\n",
              " '__sizeof__',\n",
              " '__str__',\n",
              " '__sub__',\n",
              " '__subclasshook__',\n",
              " '__xor__',\n",
              " 'add',\n",
              " 'clear',\n",
              " 'copy',\n",
              " 'difference',\n",
              " 'difference_update',\n",
              " 'discard',\n",
              " 'intersection',\n",
              " 'intersection_update',\n",
              " 'isdisjoint',\n",
              " 'issubset',\n",
              " 'issuperset',\n",
              " 'pop',\n",
              " 'remove',\n",
              " 'symmetric_difference',\n",
              " 'symmetric_difference_update',\n",
              " 'union',\n",
              " 'update']"
            ]
          },
          "metadata": {},
          "execution_count": 97
        }
      ]
    }
  ]
}