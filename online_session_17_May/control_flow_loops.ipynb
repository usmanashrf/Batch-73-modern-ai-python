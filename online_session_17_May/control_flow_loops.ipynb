{
  "nbformat": 4,
  "nbformat_minor": 0,
  "metadata": {
    "colab": {
      "provenance": []
    },
    "kernelspec": {
      "name": "python3",
      "display_name": "Python 3"
    },
    "language_info": {
      "name": "python"
    }
  },
  "cells": [
    {
      "cell_type": "markdown",
      "source": [
        "# **Topics**   \n",
        "1. Augmented Assignment Operators (`+=, -=, *=, /=, %=, //=`)\n",
        "2. Warlus Operators (`:=)\n",
        "3. Comparison Operators (`==, <, >, <=, >=, !=`)\n",
        "4. Logical Operators (`and, or, not`)\n",
        "5. Control Flow"
      ],
      "metadata": {
        "id": "NyzJ-AK_dgIk"
      }
    },
    {
      "cell_type": "markdown",
      "source": [
        "## **Python Augmented Assignment Operators**\n",
        "\n",
        "\n",
        "| Operator | Name | Example | Equivalent to |\n",
        "|----------|------|---------|---------------|\n",
        "| `+=` | Addition and assign | `x += y` | `x = x + y` |\n",
        "| `-=` | Subtraction and assign | `x -= y` | `x = x - y` |\n",
        "| `*=` | Multiplication and assign | `x *= y` | `x = x * y` |\n",
        "| `/=` | Division and assign | `x /= y` | `x = x / y` |\n",
        "| `%=` | Modulus and assign | `x %= y` | `x = x % y` |\n",
        "| `//=` | Floor division and assign | `x //= y` | `x = x // y` |\n",
        "| `**=` | Exponentiation and assign | `x **= y` | `x = x ** y` |\n",
        "\n",
        "## **Comparison Operators**   \n",
        "\n",
        "| Operator | Name | Example | Explanation |\n",
        "|----------|------|---------|-------------|\n",
        "| `==` | Equal to | `x == y` | Returns `True` if both values are equal |\n",
        "| `!=` | Not equal to | `x != y` | Returns `True` if values are not equal |\n",
        "| `>` | Greater than | `x > y` | Returns `True` if x is greater than y |\n",
        "| `<` | Less than | `x < y` | Returns `True` if x is less than y |\n",
        "| `>=` | Greater than or equal to | `x >= y` | Returns `True` if x is greater than or equal to y |\n",
        "| `<=` | Less than or equal to | `x <= y` | Returns `True` if x is less than or equal to y |\n",
        "| `is` | Identity | `x is y` | Returns `True` if both variables reference the same object |\n",
        "| `is not` | Negated identity | `x is not y` | Returns `True` if variables reference different objects |\n",
        "| `in` | Membership | `x in y` | Returns `True` if x is found in the sequence y |\n",
        "| `not in` | Negated membership | `x not in y` | Returns `True` if x is not found in the sequence y |\n",
        "\n",
        "## **Logical Operators**\n",
        "\n",
        "| Operator | Name | Example | Explanation |\n",
        "|----------|------|---------|-------------|\n",
        "| `and` | Logical AND | `x and y` | Returns `True` if both statements are true |\n",
        "| `or` | Logical OR | `x or y` | Returns `True` if at least one statement is true |\n",
        "| `not` | Logical NOT | `not x` | Returns `True` if the statement is false |\n"
      ],
      "metadata": {
        "id": "O3ZtU3sxfXIy"
      }
    },
    {
      "cell_type": "markdown",
      "source": [
        "\n"
      ],
      "metadata": {
        "id": "nMgwdaWbgoFA"
      }
    },
    {
      "cell_type": "code",
      "source": [
        "# Falsy Values\n",
        "value_01 : None = None\n",
        "value_02 : int = 0\n",
        "value_03 : float = 0.0\n",
        "value_04 : str = \"\"\n",
        "Value_05 : bool = False\n",
        "value_06 : list[None] = []\n",
        "\n",
        "print(f\"The value '{value_01}' evaluates to: {bool(value_01)} \\n\")\n",
        "print(f\"The value '{value_02}' evaluates to: {bool(value_02)} \\n\")\n",
        "print(f\"The value '{value_03}' evaluates to: {bool(value_03)} \\n\")\n",
        "print(f\"The value '{value_04}' evaluates to: {bool(value_04)} \\n\")\n",
        "print(f\"The value '{Value_05}' evaluates to: {bool(Value_05)} \\n\")\n",
        "print(f\"The value '{value_06}' evaluates to: {bool(value_06)} \\n\")\n"
      ],
      "metadata": {
        "id": "5KoGLhwqoNIl"
      },
      "execution_count": null,
      "outputs": []
    },
    {
      "cell_type": "code",
      "source": [
        "# = -> assignment\n",
        "print(\"rehan\" == 'Rehan')\n",
        "print(4 == 5)\n",
        "print(2 != 4) # evaluate to True\n",
        "print(8 < 10)\n",
        "print(8 > 10)\n",
        "print(8 <= 8)\n",
        "print(8 >= 9)"
      ],
      "metadata": {
        "id": "abLjaCrJnHh8",
        "colab": {
          "base_uri": "https://localhost:8080/"
        },
        "outputId": "ab162070-3d5e-4b26-e15a-1f7745eb8039"
      },
      "execution_count": null,
      "outputs": [
        {
          "output_type": "stream",
          "name": "stdout",
          "text": [
            "False\n",
            "False\n",
            "True\n",
            "True\n",
            "False\n",
            "True\n",
            "False\n"
          ]
        }
      ]
    },
    {
      "cell_type": "code",
      "source": [
        "age: int = 30\n",
        "result = age + 10\n",
        "print(result)"
      ],
      "metadata": {
        "colab": {
          "base_uri": "https://localhost:8080/"
        },
        "id": "Hf0K32KsGX81",
        "outputId": "eebc44a8-5b03-4576-d9ad-1ca3286b341e"
      },
      "execution_count": null,
      "outputs": [
        {
          "output_type": "stream",
          "name": "stdout",
          "text": [
            "40\n"
          ]
        }
      ]
    },
    {
      "cell_type": "code",
      "source": [
        "age: int = 30\n",
        "age = age + 10\n",
        "print(age)"
      ],
      "metadata": {
        "colab": {
          "base_uri": "https://localhost:8080/"
        },
        "id": "eW0hAnyWGh9r",
        "outputId": "3e21431c-41e8-455b-9d07-d187068666a4"
      },
      "execution_count": null,
      "outputs": [
        {
          "output_type": "stream",
          "name": "stdout",
          "text": [
            "40\n"
          ]
        }
      ]
    },
    {
      "cell_type": "code",
      "source": [
        "age: int = 30\n",
        "# age = age + 10\n",
        "age += 10\n",
        "print(age)"
      ],
      "metadata": {
        "colab": {
          "base_uri": "https://localhost:8080/"
        },
        "id": "DSwetiADGrdC",
        "outputId": "9ab79078-13d5-4c01-ef0d-afd2d13fbb31"
      },
      "execution_count": null,
      "outputs": [
        {
          "output_type": "stream",
          "name": "stdout",
          "text": [
            "40\n"
          ]
        }
      ]
    },
    {
      "cell_type": "code",
      "source": [
        "name = 'rehan'\n",
        "name2 = 'usman'\n",
        "\n",
        "print(name == name2)"
      ],
      "metadata": {
        "colab": {
          "base_uri": "https://localhost:8080/"
        },
        "id": "Hx1NonCDHAcr",
        "outputId": "7d826fec-beb4-4fc9-a4f4-da09bb592e2a"
      },
      "execution_count": null,
      "outputs": [
        {
          "output_type": "stream",
          "name": "stdout",
          "text": [
            "False\n"
          ]
        }
      ]
    },
    {
      "cell_type": "code",
      "source": [
        "# The capital of Pakistan is Islamabad\n",
        "# yes, no, maybe\n",
        "# yes, no --> True, False"
      ],
      "metadata": {
        "id": "qbv7PPPeHVQL"
      },
      "execution_count": null,
      "outputs": []
    },
    {
      "cell_type": "code",
      "source": [
        "name = 'usman'\n",
        "print(name)\n"
      ],
      "metadata": {
        "colab": {
          "base_uri": "https://localhost:8080/"
        },
        "id": "7Uanz868Ivbj",
        "outputId": "158bf601-41e8-4560-bc98-59d1665e78e9"
      },
      "execution_count": null,
      "outputs": [
        {
          "output_type": "stream",
          "name": "stdout",
          "text": [
            "usman\n"
          ]
        }
      ]
    },
    {
      "cell_type": "code",
      "source": [
        "# warlus operation :=\n",
        "# print(name5)\n",
        "print(name5:='Musa')"
      ],
      "metadata": {
        "colab": {
          "base_uri": "https://localhost:8080/"
        },
        "id": "3iRafvq6I5Xf",
        "outputId": "bf354b01-7390-47ef-d9db-b6de8707b854"
      },
      "execution_count": null,
      "outputs": [
        {
          "output_type": "stream",
          "name": "stdout",
          "text": [
            "Musa\n"
          ]
        }
      ]
    },
    {
      "cell_type": "code",
      "source": [
        "age6 = 17\n",
        "nationality = 'pakistan'\n",
        "\n",
        "#logical operatos and, or, not\n",
        "print(age6 == 17 and nationality=='pakistani')\n",
        "\n",
        "# short-circuit evaluation\n",
        "\n",
        "# True and True -> True\n",
        "# False and True -> False\n",
        "# True and False -> False\n",
        "# False and False -> False\n",
        "\n",
        "# mutilication 0-> Flase 1-> True\n",
        "# 0 * 1 = 0\n",
        "# 0 * 0 = 0\n",
        "# 1 * 0 = 0\n",
        "# 1 * 1 = 1\n",
        "\n",
        "# or\n",
        "# Addition 0-> Flase 1-> True\n",
        "# 0 + 1 = 1\n",
        "# 0 + 0 = 0\n",
        "# 1 + 0 = 1\n",
        "# 1 + 1 = 1\n",
        "\n",
        "print(age6 == 17 or nationality=='pakistani')\n",
        "\n",
        "# short-circuit evaluaiton\n",
        "\n",
        "# True or True -> True\n",
        "# False or True -> True\n",
        "# True or False -> True\n",
        "# False or False -> False"
      ],
      "metadata": {
        "colab": {
          "base_uri": "https://localhost:8080/"
        },
        "id": "_gYGLvPOJVQC",
        "outputId": "668339bd-ad48-4cd4-8f1c-c1c459d8e032"
      },
      "execution_count": null,
      "outputs": [
        {
          "output_type": "stream",
          "name": "stdout",
          "text": [
            "False\n"
          ]
        }
      ]
    },
    {
      "cell_type": "code",
      "source": [
        "# control flows\n",
        "\n",
        "user_age = 18\n",
        "nationality = 'pakistan'\n",
        "\n",
        "# if user_ age  > = 18 and nationality == Pakistan \"passport issue else your are too young not eligible \"\n",
        "\n",
        "if user_age >=18 and  nationality == \"pakistan\":\n",
        "  print(\"Passport issue\")\n",
        "else:\n",
        "  print(\"you are too young\")\n"
      ],
      "metadata": {
        "colab": {
          "base_uri": "https://localhost:8080/"
        },
        "id": "FOylk0O9MTXr",
        "outputId": "a6ea9412-4055-460b-9bd6-280c42a463b1"
      },
      "execution_count": 4,
      "outputs": [
        {
          "output_type": "stream",
          "name": "stdout",
          "text": [
            "Passport issue\n"
          ]
        }
      ]
    },
    {
      "cell_type": "code",
      "source": [
        "valid_user_name =\"usman\"\n",
        "valid_user_password=\"123\"\n",
        "\n",
        "\n",
        "user_name = input(\"Enter your user name..\")\n",
        "user_Password = input(\"Enter your password...\")\n",
        "\n",
        "if user_name == valid_user_name and user_Password == valid_user_password:\n",
        "  print(\"Login Successful\")\n",
        "else:\n",
        "  print(\"Invalid Credentials\")\n",
        "\n"
      ],
      "metadata": {
        "colab": {
          "base_uri": "https://localhost:8080/"
        },
        "id": "r4o3whqoMTVF",
        "outputId": "ba29bc9c-3d87-4f04-c579-cf011e505ebc"
      },
      "execution_count": 6,
      "outputs": [
        {
          "output_type": "stream",
          "name": "stdout",
          "text": [
            "Enter your user name..usman\n",
            "Enter your password...123\n",
            "Login Successful\n"
          ]
        }
      ]
    },
    {
      "cell_type": "code",
      "source": [
        "#MFA OTP\n",
        "\n",
        "valid_mfa = \"8743\"\n",
        "valid_user_name =\"usman\"\n",
        "valid_user_password=\"123\"\n",
        "\n",
        "\n",
        "user_name = input(\"Enter your user name..\")\n",
        "user_Password = input(\"Enter your password...\")\n",
        "user_mfa = input(\"Enter your MFA code...\")\n",
        "\n",
        "if user_name == valid_user_name and user_Password == valid_user_password:\n",
        "  print(\"Login Successful\")\n",
        "elif user_mfa == valid_mfa:\n",
        "  print(\"your are logged in with MFA\")\n",
        "else:\n",
        "  print(\"Invalid Credentials\")\n",
        "\n"
      ],
      "metadata": {
        "colab": {
          "base_uri": "https://localhost:8080/"
        },
        "id": "qf2PB2cdOWUF",
        "outputId": "de3cada0-b2a1-406f-c612-563154e83b1a"
      },
      "execution_count": 8,
      "outputs": [
        {
          "output_type": "stream",
          "name": "stdout",
          "text": [
            "Enter your user name..usman\n",
            "Enter your password...123\n",
            "Enter your MFA code...fff\n",
            "Login Successful\n"
          ]
        }
      ]
    },
    {
      "cell_type": "code",
      "source": [
        "# # switch statement\n",
        "# score = 77\n",
        "\n",
        "# match score:\n",
        "#   case 90:\n",
        "#     print(\"Grade A\")\n",
        "#   case 80:\n",
        "#     print(\"Grade B\")\n",
        "#   case 70:\n",
        "      # print()\n",
        "\n",
        "\n"
      ],
      "metadata": {
        "id": "A3akVa5CMTSV"
      },
      "execution_count": null,
      "outputs": []
    },
    {
      "cell_type": "code",
      "source": [
        "# match vs if else"
      ],
      "metadata": {
        "id": "_CHxQY2UMTOl"
      },
      "execution_count": 9,
      "outputs": []
    },
    {
      "cell_type": "code",
      "source": [
        "# ternary operator\n"
      ],
      "metadata": {
        "id": "bU4JtNucQN9y"
      },
      "execution_count": null,
      "outputs": []
    },
    {
      "cell_type": "code",
      "source": [
        "valid_user_name =\"usman\"\n",
        "valid_user_password=\"123\"\n",
        "\n",
        "\n",
        "user_name = input(\"Enter your user name..\")\n",
        "user_Password = input(\"Enter your password...\")\n",
        "\n",
        "# if user_name == valid_user_name and user_Password == valid_user_password:\n",
        "#   print(\"Login Successful\")\n",
        "# else:\n",
        "#   print(\"Invalid Credentials\")\n",
        "\n",
        "message = \"Login Successful\" if user_name == valid_user_name and user_Password == valid_user_password else \"Invalid Credentials\"\n",
        "print(message)\n",
        "\n"
      ],
      "metadata": {
        "colab": {
          "base_uri": "https://localhost:8080/"
        },
        "id": "UuahDceGQUAc",
        "outputId": "27cd380f-3a92-4aec-8eec-dd2e806fdac9"
      },
      "execution_count": 11,
      "outputs": [
        {
          "output_type": "stream",
          "name": "stdout",
          "text": [
            "Enter your user name..rehan\n",
            "Enter your password...123\n",
            "Invalid Credentials\n"
          ]
        }
      ]
    },
    {
      "cell_type": "code",
      "source": [
        "valid_user_name =\"usman\"\n",
        "valid_user_password=\"123\"\n",
        "\n",
        "\n",
        "user_name = input(\"Enter your user name..\")\n",
        "user_Password = input(\"Enter your password...\")\n",
        "\n",
        "if user_name == valid_user_name and user_Password == valid_user_password:\n",
        "  print(\"Login Successful\")\n",
        "else:\n",
        "  print(\"Invalid Credentials\")\n",
        "\n",
        "\n",
        "# ==================\n",
        "\n",
        "user_name = input(\"Enter your user name..\")\n",
        "user_Password = input(\"Enter your password...\")\n",
        "\n",
        "if user_name == valid_user_name and user_Password == valid_user_password:\n",
        "  print(\"Login Successful\")\n",
        "else:\n",
        "  print(\"Invalid Credentials\")\n",
        "\n",
        "# ==================\n",
        "\n",
        "user_name = input(\"Enter your user name..\")\n",
        "user_Password = input(\"Enter your password...\")\n",
        "\n",
        "if user_name == valid_user_name and user_Password == valid_user_password:\n",
        "  print(\"Login Successful\")\n",
        "else:\n",
        "  print(\"Invalid Credentials\")\n",
        "\n",
        "# ..."
      ],
      "metadata": {
        "colab": {
          "base_uri": "https://localhost:8080/"
        },
        "id": "gOBAUDXXRMEj",
        "outputId": "49c8a104-5963-475b-f02c-594fdac61f5b"
      },
      "execution_count": 12,
      "outputs": [
        {
          "output_type": "stream",
          "name": "stdout",
          "text": [
            "Enter your user name..usman\n",
            "Enter your password...456\n",
            "Invalid Credentials\n",
            "Enter your user name..usman\n",
            "Enter your password...333\n",
            "Invalid Credentials\n",
            "Enter your user name..usman\n",
            "Enter your password...123\n",
            "Login Successful\n"
          ]
        }
      ]
    },
    {
      "cell_type": "markdown",
      "source": [
        "# Loops"
      ],
      "metadata": {
        "id": "GZVLAyMrSe88"
      }
    },
    {
      "cell_type": "markdown",
      "source": [
        "### For Loop"
      ],
      "metadata": {
        "id": "1GU6mvwSShq3"
      }
    },
    {
      "cell_type": "code",
      "source": [
        "#DRY\n",
        "# Loop\n",
        "\n",
        "valid_user_name =\"usman\"\n",
        "valid_user_password=\"123\"\n",
        "\n",
        "# For range  => starting to ending:  loop run\n",
        "\n",
        "for num_of_attempts in range(3):\n",
        "  user_name = input(\"Enter your user name..\")\n",
        "  user_Password = input(\"Enter your password...\")\n",
        "  if user_name == valid_user_name and user_Password == valid_user_password:\n",
        "    print(\"Login Successful\")\n",
        "  else:\n",
        "    print(\"Invalid Credentials\")\n",
        "\n"
      ],
      "metadata": {
        "colab": {
          "base_uri": "https://localhost:8080/",
          "height": 426
        },
        "id": "j62YPI_ySKEQ",
        "outputId": "4ba3822c-7759-47e2-98fe-130302382e80"
      },
      "execution_count": 14,
      "outputs": [
        {
          "output_type": "stream",
          "name": "stdout",
          "text": [
            "Enter your user name..usman\n",
            "Enter your password...123\n",
            "Login Successful\n"
          ]
        },
        {
          "output_type": "error",
          "ename": "KeyboardInterrupt",
          "evalue": "Interrupted by user",
          "traceback": [
            "\u001b[0;31m---------------------------------------------------------------------------\u001b[0m",
            "\u001b[0;31mKeyboardInterrupt\u001b[0m                         Traceback (most recent call last)",
            "\u001b[0;32m<ipython-input-14-7ce91c4d8988>\u001b[0m in \u001b[0;36m<cell line: 0>\u001b[0;34m()\u001b[0m\n\u001b[1;32m      8\u001b[0m \u001b[0;34m\u001b[0m\u001b[0m\n\u001b[1;32m      9\u001b[0m \u001b[0;32mfor\u001b[0m \u001b[0mnum_of_attempts\u001b[0m \u001b[0;32min\u001b[0m \u001b[0mrange\u001b[0m\u001b[0;34m(\u001b[0m\u001b[0;36m3\u001b[0m\u001b[0;34m)\u001b[0m\u001b[0;34m:\u001b[0m\u001b[0;34m\u001b[0m\u001b[0;34m\u001b[0m\u001b[0m\n\u001b[0;32m---> 10\u001b[0;31m   \u001b[0muser_name\u001b[0m \u001b[0;34m=\u001b[0m \u001b[0minput\u001b[0m\u001b[0;34m(\u001b[0m\u001b[0;34m\"Enter your user name..\"\u001b[0m\u001b[0;34m)\u001b[0m\u001b[0;34m\u001b[0m\u001b[0;34m\u001b[0m\u001b[0m\n\u001b[0m\u001b[1;32m     11\u001b[0m   \u001b[0muser_Password\u001b[0m \u001b[0;34m=\u001b[0m \u001b[0minput\u001b[0m\u001b[0;34m(\u001b[0m\u001b[0;34m\"Enter your password...\"\u001b[0m\u001b[0;34m)\u001b[0m\u001b[0;34m\u001b[0m\u001b[0;34m\u001b[0m\u001b[0m\n\u001b[1;32m     12\u001b[0m   \u001b[0;32mif\u001b[0m \u001b[0muser_name\u001b[0m \u001b[0;34m==\u001b[0m \u001b[0mvalid_user_name\u001b[0m \u001b[0;32mand\u001b[0m \u001b[0muser_Password\u001b[0m \u001b[0;34m==\u001b[0m \u001b[0mvalid_user_password\u001b[0m\u001b[0;34m:\u001b[0m\u001b[0;34m\u001b[0m\u001b[0;34m\u001b[0m\u001b[0m\n",
            "\u001b[0;32m/usr/local/lib/python3.11/dist-packages/ipykernel/kernelbase.py\u001b[0m in \u001b[0;36mraw_input\u001b[0;34m(self, prompt)\u001b[0m\n\u001b[1;32m   1175\u001b[0m                 \u001b[0;34m\"raw_input was called, but this frontend does not support input requests.\"\u001b[0m\u001b[0;34m\u001b[0m\u001b[0;34m\u001b[0m\u001b[0m\n\u001b[1;32m   1176\u001b[0m             )\n\u001b[0;32m-> 1177\u001b[0;31m         return self._input_request(\n\u001b[0m\u001b[1;32m   1178\u001b[0m             \u001b[0mstr\u001b[0m\u001b[0;34m(\u001b[0m\u001b[0mprompt\u001b[0m\u001b[0;34m)\u001b[0m\u001b[0;34m,\u001b[0m\u001b[0;34m\u001b[0m\u001b[0;34m\u001b[0m\u001b[0m\n\u001b[1;32m   1179\u001b[0m             \u001b[0mself\u001b[0m\u001b[0;34m.\u001b[0m\u001b[0m_parent_ident\u001b[0m\u001b[0;34m[\u001b[0m\u001b[0;34m\"shell\"\u001b[0m\u001b[0;34m]\u001b[0m\u001b[0;34m,\u001b[0m\u001b[0;34m\u001b[0m\u001b[0;34m\u001b[0m\u001b[0m\n",
            "\u001b[0;32m/usr/local/lib/python3.11/dist-packages/ipykernel/kernelbase.py\u001b[0m in \u001b[0;36m_input_request\u001b[0;34m(self, prompt, ident, parent, password)\u001b[0m\n\u001b[1;32m   1217\u001b[0m             \u001b[0;32mexcept\u001b[0m \u001b[0mKeyboardInterrupt\u001b[0m\u001b[0;34m:\u001b[0m\u001b[0;34m\u001b[0m\u001b[0;34m\u001b[0m\u001b[0m\n\u001b[1;32m   1218\u001b[0m                 \u001b[0;31m# re-raise KeyboardInterrupt, to truncate traceback\u001b[0m\u001b[0;34m\u001b[0m\u001b[0;34m\u001b[0m\u001b[0m\n\u001b[0;32m-> 1219\u001b[0;31m                 \u001b[0;32mraise\u001b[0m \u001b[0mKeyboardInterrupt\u001b[0m\u001b[0;34m(\u001b[0m\u001b[0;34m\"Interrupted by user\"\u001b[0m\u001b[0;34m)\u001b[0m \u001b[0;32mfrom\u001b[0m \u001b[0;32mNone\u001b[0m\u001b[0;34m\u001b[0m\u001b[0;34m\u001b[0m\u001b[0m\n\u001b[0m\u001b[1;32m   1220\u001b[0m             \u001b[0;32mexcept\u001b[0m \u001b[0mException\u001b[0m\u001b[0;34m:\u001b[0m\u001b[0;34m\u001b[0m\u001b[0;34m\u001b[0m\u001b[0m\n\u001b[1;32m   1221\u001b[0m                 \u001b[0mself\u001b[0m\u001b[0;34m.\u001b[0m\u001b[0mlog\u001b[0m\u001b[0;34m.\u001b[0m\u001b[0mwarning\u001b[0m\u001b[0;34m(\u001b[0m\u001b[0;34m\"Invalid Message:\"\u001b[0m\u001b[0;34m,\u001b[0m \u001b[0mexc_info\u001b[0m\u001b[0;34m=\u001b[0m\u001b[0;32mTrue\u001b[0m\u001b[0;34m)\u001b[0m\u001b[0;34m\u001b[0m\u001b[0;34m\u001b[0m\u001b[0m\n",
            "\u001b[0;31mKeyboardInterrupt\u001b[0m: Interrupted by user"
          ]
        }
      ]
    },
    {
      "cell_type": "markdown",
      "source": [
        "#Break statment"
      ],
      "metadata": {
        "id": "tWVM5bT4T1RU"
      }
    },
    {
      "cell_type": "code",
      "source": [
        "#DRY\n",
        "# Loop\n",
        "\n",
        "valid_user_name =\"usman\"\n",
        "valid_user_password=\"123\"\n",
        "\n",
        "# For range  => starting to ending:  loop run\n",
        "\n",
        "for num_of_attempts in range(3):\n",
        "  user_name = input(\"Enter your user name..\")\n",
        "  user_Password = input(\"Enter your password...\")\n",
        "  if user_name == valid_user_name and user_Password == valid_user_password:\n",
        "    print(\"Login Successful\")\n",
        "    break\n",
        "  else:\n",
        "    print(\"Invalid Credentials\")"
      ],
      "metadata": {
        "colab": {
          "base_uri": "https://localhost:8080/"
        },
        "id": "FimViRuDSLo4",
        "outputId": "d453cf3d-3a04-41c7-8dd1-45e439878ffa"
      },
      "execution_count": 17,
      "outputs": [
        {
          "output_type": "stream",
          "name": "stdout",
          "text": [
            "Enter your user name..usman\n",
            "Enter your password...ssss\n",
            "Invalid Credentials\n",
            "Enter your user name..usman\n",
            "Enter your password...123\n",
            "Login Successful\n"
          ]
        }
      ]
    },
    {
      "cell_type": "code",
      "source": [
        "# continue\n",
        "\n",
        "for i in range(5):  #n-1\n",
        "  if i == 2:\n",
        "    continue\n",
        "  print(i)\n"
      ],
      "metadata": {
        "colab": {
          "base_uri": "https://localhost:8080/"
        },
        "id": "drZLEkAdUTWl",
        "outputId": "14c46fcf-aedb-4618-f073-ab9b13cbfc50"
      },
      "execution_count": 18,
      "outputs": [
        {
          "output_type": "stream",
          "name": "stdout",
          "text": [
            "0\n",
            "1\n",
            "3\n",
            "4\n"
          ]
        }
      ]
    },
    {
      "cell_type": "markdown",
      "source": [],
      "metadata": {
        "id": "JB6YA4uOVKJw"
      }
    },
    {
      "cell_type": "code",
      "source": [
        "# how we'll implement for loop on list"
      ],
      "metadata": {
        "id": "svCcUMbDVJKj"
      },
      "execution_count": null,
      "outputs": []
    },
    {
      "cell_type": "markdown",
      "source": [
        "# *While Loop*"
      ],
      "metadata": {
        "id": "73CAHV-qVY5A"
      }
    },
    {
      "cell_type": "code",
      "source": [
        "# while condition :\n",
        "  # block of code\n",
        "  # condition update"
      ],
      "metadata": {
        "id": "weHqvZx5VjZP"
      },
      "execution_count": 19,
      "outputs": []
    },
    {
      "cell_type": "markdown",
      "source": [
        "#### dry-run"
      ],
      "metadata": {
        "id": "YMWfaZvWZQiF"
      }
    },
    {
      "cell_type": "code",
      "source": [
        "valid_user_name =\"usman\"\n",
        "valid_user_password=\"123\"\n",
        "\n",
        "\n",
        "number_of_attempts = 3\n",
        "\n",
        "while number_of_attempts > 0:  # 0 > 0 -> flase\n",
        "  user_name = input(\"Enter your user name..\") # usman\n",
        "  user_Password = input(\"Enter your password...\") #123\n",
        "\n",
        "     # (usman ==  usman) true  and 123 == 123\n",
        "  if user_name == valid_user_name and user_Password == valid_user_password:\n",
        "    print(\"Login Successful\")\n",
        "  else:\n",
        "    print(\"Invalid Credentials\")\n",
        "\n",
        "  print(\"===========\")\n",
        "  number_of_attempts -= 1 #1 -1 = 0"
      ],
      "metadata": {
        "colab": {
          "base_uri": "https://localhost:8080/"
        },
        "id": "aiTi_UKAVJH8",
        "outputId": "f95ed359-929b-44fd-b8f5-ab62047af9a5"
      },
      "execution_count": 21,
      "outputs": [
        {
          "output_type": "stream",
          "name": "stdout",
          "text": [
            "Enter your user name..usman\n",
            "Enter your password...1222\n",
            "Invalid Credentials\n",
            "===========\n",
            "Enter your user name..uus\n",
            "Enter your password...5555\n",
            "Invalid Credentials\n",
            "===========\n",
            "Enter your user name..usman\n",
            "Enter your password...123\n",
            "Login Successful\n",
            "===========\n"
          ]
        }
      ]
    },
    {
      "cell_type": "code",
      "source": [],
      "metadata": {
        "id": "17IgJGSxVI_-"
      },
      "execution_count": null,
      "outputs": []
    }
  ]
}